{
 "cells": [
  {
   "cell_type": "code",
   "execution_count": 1,
   "id": "219a4672-7677-4d39-9504-7140006293b9",
   "metadata": {},
   "outputs": [
    {
     "data": {
      "text/plain": [
       "'\\nread_csv(): This function is used to read data from a CSV file and create a DataFrame.\\nhead(): This function is used to display the first few rows of a DataFrame.\\ndescribe(): This function provides summary statistics of numeric columns in a DataFrame.\\ngroupby(): This function is used for grouping and aggregating data based on one or more columns.\\nmerge(): This function is used to merge two or more DataFrames based on common columns.\\n'"
      ]
     },
     "execution_count": 1,
     "metadata": {},
     "output_type": "execute_result"
    }
   ],
   "source": [
    "#Q1. List any five functions of the pandas library with execution.\n",
    "'''\n",
    "read_csv(): This function is used to read data from a CSV file and create a DataFrame.\n",
    "head(): This function is used to display the first few rows of a DataFrame.\n",
    "describe(): This function provides summary statistics of numeric columns in a DataFrame.\n",
    "groupby(): This function is used for grouping and aggregating data based on one or more columns.\n",
    "merge(): This function is used to merge two or more DataFrames based on common columns.\n",
    "'''"
   ]
  },
  {
   "cell_type": "code",
   "execution_count": 2,
   "id": "4fbd8ae0-4a06-475a-9539-0eef8fbdff36",
   "metadata": {},
   "outputs": [
    {
     "name": "stdout",
     "output_type": "stream",
     "text": [
      "   A  B  C\n",
      "1  1  5  2\n",
      "3  2  4  3\n",
      "5  3  3  4\n",
      "7  4  2  5\n",
      "9  5  1  1\n"
     ]
    }
   ],
   "source": [
    "#Q2. Given a Pandas DataFrame df with columns 'A', 'B', and 'C', write a Python function to re-index the DataFrame with a new index that starts from 1 and increments by 2 for each row.\n",
    "import pandas as pd\n",
    "def new_index(df):\n",
    "    df=df.reset_index(drop=True)\n",
    "    newind=pd.Series(range(1,len(df)*2,2))\n",
    "    df.index=newind\n",
    "    return df\n",
    "data={'A':[1,2,3,4,5],'B':[5,4,3,2,1],'C':[2,3,4,5,1]}\n",
    "\n",
    "df=pd.DataFrame(data)\n",
    "\n",
    "df=new_index(df)\n",
    "print(df)"
   ]
  },
  {
   "cell_type": "code",
   "execution_count": 3,
   "id": "a783419a-6c53-4d87-a46b-d61e3f184ed3",
   "metadata": {},
   "outputs": [
    {
     "name": "stdout",
     "output_type": "stream",
     "text": [
      "23\n"
     ]
    }
   ],
   "source": [
    "#Q3. You have a Pandas DataFrame df with a column named 'Values'. Write a Python function that iterates over the DataFrame and calculates the sum of the first three values in the 'Values' column. The function should print the sum to the console.\n",
    "data1={'Values':[4,7,3,9,5]}\n",
    "df1=pd.DataFrame(data1)\n",
    "s=0\n",
    "for i in range(4):\n",
    "    s+=df1[\"Values\"].iloc[i]\n",
    "print(s)"
   ]
  },
  {
   "cell_type": "code",
   "execution_count": 4,
   "id": "b075bbe9-7a80-46f4-8b71-f5288bc45832",
   "metadata": {},
   "outputs": [],
   "source": [
    "#Q4. Given a Pandas DataFrame df with a column 'Text', write a Python function to create a new column 'Word_Count' that contains the number of words in each row of the 'Text' column.\n",
    "data2={'Text':['This function is used to read data from a CSV file and create a DataFrame.','This function is used to display the first few rows of a DataFrame.',' This function provides summary statistics of numeric columns in a DataFrame.']}\n",
    "df2=pd.DataFrame(data2)\n",
    "\n",
    "def wordcount(x):\n",
    "    return len(x.split(' '))\n",
    "df2['Word_Count']=df2['Text'].apply(wordcount)"
   ]
  },
  {
   "cell_type": "code",
   "execution_count": 5,
   "id": "e29438fb-feac-44e5-8cba-fd377af7a87f",
   "metadata": {},
   "outputs": [
    {
     "data": {
      "text/html": [
       "<div>\n",
       "<style scoped>\n",
       "    .dataframe tbody tr th:only-of-type {\n",
       "        vertical-align: middle;\n",
       "    }\n",
       "\n",
       "    .dataframe tbody tr th {\n",
       "        vertical-align: top;\n",
       "    }\n",
       "\n",
       "    .dataframe thead th {\n",
       "        text-align: right;\n",
       "    }\n",
       "</style>\n",
       "<table border=\"1\" class=\"dataframe\">\n",
       "  <thead>\n",
       "    <tr style=\"text-align: right;\">\n",
       "      <th></th>\n",
       "      <th>Text</th>\n",
       "      <th>Word_Count</th>\n",
       "    </tr>\n",
       "  </thead>\n",
       "  <tbody>\n",
       "    <tr>\n",
       "      <th>0</th>\n",
       "      <td>This function is used to read data from a CSV ...</td>\n",
       "      <td>15</td>\n",
       "    </tr>\n",
       "    <tr>\n",
       "      <th>1</th>\n",
       "      <td>This function is used to display the first few...</td>\n",
       "      <td>13</td>\n",
       "    </tr>\n",
       "    <tr>\n",
       "      <th>2</th>\n",
       "      <td>This function provides summary statistics of ...</td>\n",
       "      <td>12</td>\n",
       "    </tr>\n",
       "  </tbody>\n",
       "</table>\n",
       "</div>"
      ],
      "text/plain": [
       "                                                Text  Word_Count\n",
       "0  This function is used to read data from a CSV ...          15\n",
       "1  This function is used to display the first few...          13\n",
       "2   This function provides summary statistics of ...          12"
      ]
     },
     "execution_count": 5,
     "metadata": {},
     "output_type": "execute_result"
    }
   ],
   "source": [
    "df2"
   ]
  },
  {
   "cell_type": "code",
   "execution_count": 6,
   "id": "35d3dafa-0c36-441b-a13c-2b101b0b28f5",
   "metadata": {},
   "outputs": [
    {
     "data": {
      "text/plain": [
       "'\\nDataFrame.size() returns the total number of elements (rows times columns) in the DataFrame.\\nDataFrame.shape() returns a tuple representing the dimensions of the DataFrame, specifically (number of rows, number of columns).\\n'"
      ]
     },
     "execution_count": 6,
     "metadata": {},
     "output_type": "execute_result"
    }
   ],
   "source": [
    "#Q5. How are DataFrame.size() and DataFrame.shape() different?\n",
    "'''\n",
    "DataFrame.size() returns the total number of elements (rows times columns) in the DataFrame.\n",
    "DataFrame.shape() returns a tuple representing the dimensions of the DataFrame, specifically (number of rows, number of columns).\n",
    "'''"
   ]
  },
  {
   "cell_type": "code",
   "execution_count": 7,
   "id": "4727d775-6aa9-4aca-a0a7-40472ba3a35b",
   "metadata": {},
   "outputs": [],
   "source": [
    "#Q6. Which function of pandas do we use to read an excel file?\n",
    "# We use pandas.read_excel() to raed excel file."
   ]
  },
  {
   "cell_type": "code",
   "execution_count": 8,
   "id": "71aec685-66db-4b7a-bc18-53b624cd59cd",
   "metadata": {},
   "outputs": [],
   "source": [
    "#Q7. You have a Pandas DataFrame df that contains a column named 'Email' that contains email addresses in the format 'username@domain.com'. Write a Python function that creates a new column 'Username' in df that contains only the username part of each email address.\n",
    "data3={'Email':['john.doe@example.com','physics.wala@example.com','data.science@example.com']}\n",
    "df3=pd.DataFrame(data3)\n",
    "def username(x):\n",
    "    return x.split('@')[0]\n",
    "df3['Username']=df3['Email'].apply(username)"
   ]
  },
  {
   "cell_type": "code",
   "execution_count": 9,
   "id": "d946a543-f6b7-4bda-87a6-dda03dbdacd1",
   "metadata": {},
   "outputs": [
    {
     "data": {
      "text/html": [
       "<div>\n",
       "<style scoped>\n",
       "    .dataframe tbody tr th:only-of-type {\n",
       "        vertical-align: middle;\n",
       "    }\n",
       "\n",
       "    .dataframe tbody tr th {\n",
       "        vertical-align: top;\n",
       "    }\n",
       "\n",
       "    .dataframe thead th {\n",
       "        text-align: right;\n",
       "    }\n",
       "</style>\n",
       "<table border=\"1\" class=\"dataframe\">\n",
       "  <thead>\n",
       "    <tr style=\"text-align: right;\">\n",
       "      <th></th>\n",
       "      <th>Email</th>\n",
       "      <th>Username</th>\n",
       "    </tr>\n",
       "  </thead>\n",
       "  <tbody>\n",
       "    <tr>\n",
       "      <th>0</th>\n",
       "      <td>john.doe@example.com</td>\n",
       "      <td>john.doe</td>\n",
       "    </tr>\n",
       "    <tr>\n",
       "      <th>1</th>\n",
       "      <td>physics.wala@example.com</td>\n",
       "      <td>physics.wala</td>\n",
       "    </tr>\n",
       "    <tr>\n",
       "      <th>2</th>\n",
       "      <td>data.science@example.com</td>\n",
       "      <td>data.science</td>\n",
       "    </tr>\n",
       "  </tbody>\n",
       "</table>\n",
       "</div>"
      ],
      "text/plain": [
       "                      Email      Username\n",
       "0      john.doe@example.com      john.doe\n",
       "1  physics.wala@example.com  physics.wala\n",
       "2  data.science@example.com  data.science"
      ]
     },
     "execution_count": 9,
     "metadata": {},
     "output_type": "execute_result"
    }
   ],
   "source": [
    "df3"
   ]
  },
  {
   "cell_type": "code",
   "execution_count": 10,
   "id": "42a35ad7-da70-445a-832e-563cfae46539",
   "metadata": {},
   "outputs": [],
   "source": [
    "#You have a Pandas DataFrame df with columns 'A', 'B', and 'C'. Write a Python function that selects all rows where the value in column 'A' is greater than 5 and the value in column 'B' is less than 10. The function should return a new DataFrame that contains only the selected rows.\n",
    "data4={'A':[9,2,3,8,5],'B':[5,2,3,8,1],'C':[7,3,1,5,9]}\n",
    "df4=pd.DataFrame(data4)\n",
    "def selectrow(df4):\n",
    "    select_row=df4[(df4['A']>5) & (df4['B']<10)]\n",
    "    return select_row\n",
    "new_df=selectrow(df4)"
   ]
  },
  {
   "cell_type": "code",
   "execution_count": 11,
   "id": "c47c437d-31f9-4a68-a198-14a718c04ea0",
   "metadata": {},
   "outputs": [
    {
     "data": {
      "text/html": [
       "<div>\n",
       "<style scoped>\n",
       "    .dataframe tbody tr th:only-of-type {\n",
       "        vertical-align: middle;\n",
       "    }\n",
       "\n",
       "    .dataframe tbody tr th {\n",
       "        vertical-align: top;\n",
       "    }\n",
       "\n",
       "    .dataframe thead th {\n",
       "        text-align: right;\n",
       "    }\n",
       "</style>\n",
       "<table border=\"1\" class=\"dataframe\">\n",
       "  <thead>\n",
       "    <tr style=\"text-align: right;\">\n",
       "      <th></th>\n",
       "      <th>A</th>\n",
       "      <th>B</th>\n",
       "      <th>C</th>\n",
       "    </tr>\n",
       "  </thead>\n",
       "  <tbody>\n",
       "    <tr>\n",
       "      <th>0</th>\n",
       "      <td>9</td>\n",
       "      <td>5</td>\n",
       "      <td>7</td>\n",
       "    </tr>\n",
       "    <tr>\n",
       "      <th>3</th>\n",
       "      <td>8</td>\n",
       "      <td>8</td>\n",
       "      <td>5</td>\n",
       "    </tr>\n",
       "  </tbody>\n",
       "</table>\n",
       "</div>"
      ],
      "text/plain": [
       "   A  B  C\n",
       "0  9  5  7\n",
       "3  8  8  5"
      ]
     },
     "execution_count": 11,
     "metadata": {},
     "output_type": "execute_result"
    }
   ],
   "source": [
    "new_df"
   ]
  },
  {
   "cell_type": "code",
   "execution_count": 12,
   "id": "c72405eb-3e76-4aa6-9857-0d1abe443f8f",
   "metadata": {},
   "outputs": [
    {
     "name": "stdout",
     "output_type": "stream",
     "text": [
      "Mean =  Values    5.6\n",
      "dtype: float64 \n",
      "\n",
      "Median =  Values    5.0\n",
      "dtype: float64 \n",
      "\n",
      "STD =  Values    2.408319\n",
      "dtype: float64\n"
     ]
    }
   ],
   "source": [
    "#Q9. Given a Pandas DataFrame df with a column 'Values', write a Python function to calculate the mean, median, and standard deviation of the values in the 'Values' column.\n",
    "print('Mean = ',df1.mean(),'\\n\\nMedian = ',df1.median(),'\\n\\nSTD = ',df1.std())"
   ]
  },
  {
   "cell_type": "code",
   "execution_count": 13,
   "id": "3b44d526-797a-491d-8aae-61381479bb6d",
   "metadata": {},
   "outputs": [],
   "source": [
    "#Q10. Given a Pandas DataFrame df with a column 'Sales' and a column 'Date', write a Python function to create a new column 'MovingAverage' that contains the moving average of the sales for the past 7 days for each row in the DataFrame. The moving average should be calculated using a window of size 7 and should include the current day.\n",
    "data5={'Date':pd.date_range(start='2023-09-20',periods=30,freq='D'),'Sales':[100, 120, 130, 110, 90, 80, 105, 115, 125, 140, 120, 110, 100, 95, 105, 115, 130, 140, 145, 135, 120, 110, 100, 95, 105, 115, 130, 140, 145, 135]}\n",
    "df5=pd.DataFrame(data5)"
   ]
  },
  {
   "cell_type": "code",
   "execution_count": 14,
   "id": "78107d1a-7675-4e1b-80d7-8cd19c0f6235",
   "metadata": {},
   "outputs": [
    {
     "name": "stdout",
     "output_type": "stream",
     "text": [
      "         Date  Sales  MovingAverage\n",
      "0  2023-09-20    100     100.000000\n",
      "1  2023-09-21    120     110.000000\n",
      "2  2023-09-22    130     116.666667\n",
      "3  2023-09-23    110     115.000000\n",
      "4  2023-09-24     90     110.000000\n",
      "5  2023-09-25     80     105.000000\n",
      "6  2023-09-26    105     105.000000\n",
      "7  2023-09-27    115     107.142857\n",
      "8  2023-09-28    125     107.857143\n",
      "9  2023-09-29    140     109.285714\n",
      "10 2023-09-30    120     110.714286\n",
      "11 2023-10-01    110     113.571429\n",
      "12 2023-10-02    100     116.428571\n",
      "13 2023-10-03     95     115.000000\n",
      "14 2023-10-04    105     113.571429\n",
      "15 2023-10-05    115     112.142857\n",
      "16 2023-10-06    130     110.714286\n",
      "17 2023-10-07    140     113.571429\n",
      "18 2023-10-08    145     118.571429\n",
      "19 2023-10-09    135     123.571429\n",
      "20 2023-10-10    120     127.142857\n",
      "21 2023-10-11    110     127.857143\n",
      "22 2023-10-12    100     125.714286\n",
      "23 2023-10-13     95     120.714286\n",
      "24 2023-10-14    105     115.714286\n",
      "25 2023-10-15    115     111.428571\n",
      "26 2023-10-16    130     110.714286\n",
      "27 2023-10-17    140     113.571429\n",
      "28 2023-10-18    145     118.571429\n",
      "29 2023-10-19    135     123.571429\n"
     ]
    }
   ],
   "source": [
    "df5['MovingAverage']=df5['Sales'].rolling(window=7,min_periods=1).mean()\n",
    "print(df5)"
   ]
  },
  {
   "cell_type": "code",
   "execution_count": 19,
   "id": "ffd90d8e-1d10-41c5-8d4a-3eb5171a656c",
   "metadata": {},
   "outputs": [],
   "source": [
    "#Q11. You have a Pandas DataFrame df with a column 'Date'. Write a Python function that creates a newcolumn 'Weekday' in the DataFrame. The 'Weekday' column should contain the weekday name (e.g. Monday, Tuesday) corresponding to each date in the 'Date' column.\n",
    "data6={'Date':pd.date_range(start='2023-09-21', periods=10)}\n",
    "df6=pd.DataFrame(data6)\n",
    "df6['Weekend']=df6['Date'].dt.strftime('%A')"
   ]
  },
  {
   "cell_type": "code",
   "execution_count": 20,
   "id": "f76b0d7b-fd84-4509-a1ed-1ae8767b6aa4",
   "metadata": {},
   "outputs": [
    {
     "data": {
      "text/html": [
       "<div>\n",
       "<style scoped>\n",
       "    .dataframe tbody tr th:only-of-type {\n",
       "        vertical-align: middle;\n",
       "    }\n",
       "\n",
       "    .dataframe tbody tr th {\n",
       "        vertical-align: top;\n",
       "    }\n",
       "\n",
       "    .dataframe thead th {\n",
       "        text-align: right;\n",
       "    }\n",
       "</style>\n",
       "<table border=\"1\" class=\"dataframe\">\n",
       "  <thead>\n",
       "    <tr style=\"text-align: right;\">\n",
       "      <th></th>\n",
       "      <th>Date</th>\n",
       "      <th>Weekend</th>\n",
       "    </tr>\n",
       "  </thead>\n",
       "  <tbody>\n",
       "    <tr>\n",
       "      <th>0</th>\n",
       "      <td>2023-09-21</td>\n",
       "      <td>Thursday</td>\n",
       "    </tr>\n",
       "    <tr>\n",
       "      <th>1</th>\n",
       "      <td>2023-09-22</td>\n",
       "      <td>Friday</td>\n",
       "    </tr>\n",
       "    <tr>\n",
       "      <th>2</th>\n",
       "      <td>2023-09-23</td>\n",
       "      <td>Saturday</td>\n",
       "    </tr>\n",
       "    <tr>\n",
       "      <th>3</th>\n",
       "      <td>2023-09-24</td>\n",
       "      <td>Sunday</td>\n",
       "    </tr>\n",
       "    <tr>\n",
       "      <th>4</th>\n",
       "      <td>2023-09-25</td>\n",
       "      <td>Monday</td>\n",
       "    </tr>\n",
       "    <tr>\n",
       "      <th>5</th>\n",
       "      <td>2023-09-26</td>\n",
       "      <td>Tuesday</td>\n",
       "    </tr>\n",
       "    <tr>\n",
       "      <th>6</th>\n",
       "      <td>2023-09-27</td>\n",
       "      <td>Wednesday</td>\n",
       "    </tr>\n",
       "    <tr>\n",
       "      <th>7</th>\n",
       "      <td>2023-09-28</td>\n",
       "      <td>Thursday</td>\n",
       "    </tr>\n",
       "    <tr>\n",
       "      <th>8</th>\n",
       "      <td>2023-09-29</td>\n",
       "      <td>Friday</td>\n",
       "    </tr>\n",
       "    <tr>\n",
       "      <th>9</th>\n",
       "      <td>2023-09-30</td>\n",
       "      <td>Saturday</td>\n",
       "    </tr>\n",
       "  </tbody>\n",
       "</table>\n",
       "</div>"
      ],
      "text/plain": [
       "        Date    Weekend\n",
       "0 2023-09-21   Thursday\n",
       "1 2023-09-22     Friday\n",
       "2 2023-09-23   Saturday\n",
       "3 2023-09-24     Sunday\n",
       "4 2023-09-25     Monday\n",
       "5 2023-09-26    Tuesday\n",
       "6 2023-09-27  Wednesday\n",
       "7 2023-09-28   Thursday\n",
       "8 2023-09-29     Friday\n",
       "9 2023-09-30   Saturday"
      ]
     },
     "execution_count": 20,
     "metadata": {},
     "output_type": "execute_result"
    }
   ],
   "source": [
    "df6"
   ]
  },
  {
   "cell_type": "code",
   "execution_count": 30,
   "id": "2a957c72-7a0d-457e-ac41-7668463b1deb",
   "metadata": {},
   "outputs": [],
   "source": [
    "#Q12. Given a Pandas DataFrame df with a column 'Date' that contains timestamps, write a Python function to select all rows where the date is between '2023-01-01' and '2023-01-31' \n",
    "data7={'Date':pd.date_range(start='2022-12-25', periods=50)}\n",
    "df7=pd.DataFrame(data7)\n",
    "def sel(df7):\n",
    "    startd='2023-01-01'\n",
    "    endd='2023-01-31'\n",
    "    sell=df7[(df7['Date']>=startd) & (df7['Date']<=endd)]\n",
    "    return sell\n",
    "new_df1=sel(df7)"
   ]
  },
  {
   "cell_type": "code",
   "execution_count": 31,
   "id": "5978685a-da39-4f39-8fb9-9624d395160a",
   "metadata": {},
   "outputs": [
    {
     "data": {
      "text/html": [
       "<div>\n",
       "<style scoped>\n",
       "    .dataframe tbody tr th:only-of-type {\n",
       "        vertical-align: middle;\n",
       "    }\n",
       "\n",
       "    .dataframe tbody tr th {\n",
       "        vertical-align: top;\n",
       "    }\n",
       "\n",
       "    .dataframe thead th {\n",
       "        text-align: right;\n",
       "    }\n",
       "</style>\n",
       "<table border=\"1\" class=\"dataframe\">\n",
       "  <thead>\n",
       "    <tr style=\"text-align: right;\">\n",
       "      <th></th>\n",
       "      <th>Date</th>\n",
       "    </tr>\n",
       "  </thead>\n",
       "  <tbody>\n",
       "    <tr>\n",
       "      <th>7</th>\n",
       "      <td>2023-01-01</td>\n",
       "    </tr>\n",
       "    <tr>\n",
       "      <th>8</th>\n",
       "      <td>2023-01-02</td>\n",
       "    </tr>\n",
       "    <tr>\n",
       "      <th>9</th>\n",
       "      <td>2023-01-03</td>\n",
       "    </tr>\n",
       "    <tr>\n",
       "      <th>10</th>\n",
       "      <td>2023-01-04</td>\n",
       "    </tr>\n",
       "    <tr>\n",
       "      <th>11</th>\n",
       "      <td>2023-01-05</td>\n",
       "    </tr>\n",
       "    <tr>\n",
       "      <th>12</th>\n",
       "      <td>2023-01-06</td>\n",
       "    </tr>\n",
       "    <tr>\n",
       "      <th>13</th>\n",
       "      <td>2023-01-07</td>\n",
       "    </tr>\n",
       "    <tr>\n",
       "      <th>14</th>\n",
       "      <td>2023-01-08</td>\n",
       "    </tr>\n",
       "    <tr>\n",
       "      <th>15</th>\n",
       "      <td>2023-01-09</td>\n",
       "    </tr>\n",
       "    <tr>\n",
       "      <th>16</th>\n",
       "      <td>2023-01-10</td>\n",
       "    </tr>\n",
       "    <tr>\n",
       "      <th>17</th>\n",
       "      <td>2023-01-11</td>\n",
       "    </tr>\n",
       "    <tr>\n",
       "      <th>18</th>\n",
       "      <td>2023-01-12</td>\n",
       "    </tr>\n",
       "    <tr>\n",
       "      <th>19</th>\n",
       "      <td>2023-01-13</td>\n",
       "    </tr>\n",
       "    <tr>\n",
       "      <th>20</th>\n",
       "      <td>2023-01-14</td>\n",
       "    </tr>\n",
       "    <tr>\n",
       "      <th>21</th>\n",
       "      <td>2023-01-15</td>\n",
       "    </tr>\n",
       "    <tr>\n",
       "      <th>22</th>\n",
       "      <td>2023-01-16</td>\n",
       "    </tr>\n",
       "    <tr>\n",
       "      <th>23</th>\n",
       "      <td>2023-01-17</td>\n",
       "    </tr>\n",
       "    <tr>\n",
       "      <th>24</th>\n",
       "      <td>2023-01-18</td>\n",
       "    </tr>\n",
       "    <tr>\n",
       "      <th>25</th>\n",
       "      <td>2023-01-19</td>\n",
       "    </tr>\n",
       "    <tr>\n",
       "      <th>26</th>\n",
       "      <td>2023-01-20</td>\n",
       "    </tr>\n",
       "    <tr>\n",
       "      <th>27</th>\n",
       "      <td>2023-01-21</td>\n",
       "    </tr>\n",
       "    <tr>\n",
       "      <th>28</th>\n",
       "      <td>2023-01-22</td>\n",
       "    </tr>\n",
       "    <tr>\n",
       "      <th>29</th>\n",
       "      <td>2023-01-23</td>\n",
       "    </tr>\n",
       "    <tr>\n",
       "      <th>30</th>\n",
       "      <td>2023-01-24</td>\n",
       "    </tr>\n",
       "    <tr>\n",
       "      <th>31</th>\n",
       "      <td>2023-01-25</td>\n",
       "    </tr>\n",
       "    <tr>\n",
       "      <th>32</th>\n",
       "      <td>2023-01-26</td>\n",
       "    </tr>\n",
       "    <tr>\n",
       "      <th>33</th>\n",
       "      <td>2023-01-27</td>\n",
       "    </tr>\n",
       "    <tr>\n",
       "      <th>34</th>\n",
       "      <td>2023-01-28</td>\n",
       "    </tr>\n",
       "    <tr>\n",
       "      <th>35</th>\n",
       "      <td>2023-01-29</td>\n",
       "    </tr>\n",
       "    <tr>\n",
       "      <th>36</th>\n",
       "      <td>2023-01-30</td>\n",
       "    </tr>\n",
       "    <tr>\n",
       "      <th>37</th>\n",
       "      <td>2023-01-31</td>\n",
       "    </tr>\n",
       "  </tbody>\n",
       "</table>\n",
       "</div>"
      ],
      "text/plain": [
       "         Date\n",
       "7  2023-01-01\n",
       "8  2023-01-02\n",
       "9  2023-01-03\n",
       "10 2023-01-04\n",
       "11 2023-01-05\n",
       "12 2023-01-06\n",
       "13 2023-01-07\n",
       "14 2023-01-08\n",
       "15 2023-01-09\n",
       "16 2023-01-10\n",
       "17 2023-01-11\n",
       "18 2023-01-12\n",
       "19 2023-01-13\n",
       "20 2023-01-14\n",
       "21 2023-01-15\n",
       "22 2023-01-16\n",
       "23 2023-01-17\n",
       "24 2023-01-18\n",
       "25 2023-01-19\n",
       "26 2023-01-20\n",
       "27 2023-01-21\n",
       "28 2023-01-22\n",
       "29 2023-01-23\n",
       "30 2023-01-24\n",
       "31 2023-01-25\n",
       "32 2023-01-26\n",
       "33 2023-01-27\n",
       "34 2023-01-28\n",
       "35 2023-01-29\n",
       "36 2023-01-30\n",
       "37 2023-01-31"
      ]
     },
     "execution_count": 31,
     "metadata": {},
     "output_type": "execute_result"
    }
   ],
   "source": [
    "new_df1"
   ]
  },
  {
   "cell_type": "code",
   "execution_count": null,
   "id": "f0d801cb-cb26-4bb8-be69-4c2cce4a7703",
   "metadata": {},
   "outputs": [],
   "source": []
  }
 ],
 "metadata": {
  "kernelspec": {
   "display_name": "Python 3 (ipykernel)",
   "language": "python",
   "name": "python3"
  },
  "language_info": {
   "codemirror_mode": {
    "name": "ipython",
    "version": 3
   },
   "file_extension": ".py",
   "mimetype": "text/x-python",
   "name": "python",
   "nbconvert_exporter": "python",
   "pygments_lexer": "ipython3",
   "version": "3.10.8"
  }
 },
 "nbformat": 4,
 "nbformat_minor": 5
}
