{
 "cells": [
  {
   "cell_type": "code",
   "execution_count": 1,
   "id": "269621f7-e549-4a9c-85a5-fb8063a223a6",
   "metadata": {},
   "outputs": [
    {
     "data": {
      "text/plain": [
       "'\\nAPI stands for Application Programming Interface. It is a set of rules and protocols that allows different software applications to communicate and interact with each other. It enables developers to access and use the functionalities of a system, service, or platform without needing to understand the underlying code.\\nOne real-life example of API usage is in social media platforms like Facebook, Twitter, or Instagram. These platforms provide APIs that allow third-party developers to integrate their applications with social media functionalities. This enables users to log in, share content, or access their social media data through other applications or websites.\\n'"
      ]
     },
     "execution_count": 1,
     "metadata": {},
     "output_type": "execute_result"
    }
   ],
   "source": [
    "#Q1. What is an API? Give an example, where an API is used in real life.\n",
    "'''\n",
    "API stands for Application Programming Interface. It is a set of rules and protocols that allows different software applications to communicate and interact with each other. It enables developers to access and use the functionalities of a system, service, or platform without needing to understand the underlying code.\n",
    "One real-life example of API usage is in social media platforms like Facebook, Twitter, or Instagram. These platforms provide APIs that allow third-party developers to integrate their applications with social media functionalities. This enables users to log in, share content, or access their social media data through other applications or websites.\n",
    "'''"
   ]
  },
  {
   "cell_type": "code",
   "execution_count": 2,
   "id": "4f62c5a9-3719-4b21-a545-b690d1e59c11",
   "metadata": {},
   "outputs": [
    {
     "data": {
      "text/plain": [
       "'\\nAdvantages of APIs: Efficiency, integration flexibility, scalability, enhanced user experience.\\nDisadvantages of APIs: Dependency, limited control, complexity, security risks.\\n'"
      ]
     },
     "execution_count": 2,
     "metadata": {},
     "output_type": "execute_result"
    }
   ],
   "source": [
    "#Q2. Give advantages and disadvantages of using API.\n",
    "'''\n",
    "Advantages of APIs: Efficiency, integration flexibility, scalability, enhanced user experience.\n",
    "Disadvantages of APIs: Dependency, limited control, complexity, security risks.\n",
    "'''"
   ]
  },
  {
   "cell_type": "code",
   "execution_count": 3,
   "id": "3f5bff59-f894-44a6-988a-dbb8f10c6e58",
   "metadata": {},
   "outputs": [
    {
     "data": {
      "text/plain": [
       "'\\nA3. \\n\\nAPI: An API (Application Programming Interface) is a set of rules and protocols that allows different software applications to communicate and interact with each other.\\nWeb API: A Web API is an API that is specifically designed to be accessed over the internet using standard web protocols such as HTTP. It enables interaction between different web-based applications or services.\\nDifference: While API is a general term that encompasses various types of interfaces for software communication, a Web API specifically refers to APIs that are accessible over the internet using web protocols. In other words, all Web APIs are APIs, but not all APIs are Web APIs.\\n'"
      ]
     },
     "execution_count": 3,
     "metadata": {},
     "output_type": "execute_result"
    }
   ],
   "source": [
    "#Q3. What is a Web API? Differentiate between API and Web API.\n",
    "'''\n",
    "A3. \n",
    "\n",
    "API: An API (Application Programming Interface) is a set of rules and protocols that allows different software applications to communicate and interact with each other.\n",
    "Web API: A Web API is an API that is specifically designed to be accessed over the internet using standard web protocols such as HTTP. It enables interaction between different web-based applications or services.\n",
    "Difference: While API is a general term that encompasses various types of interfaces for software communication, a Web API specifically refers to APIs that are accessible over the internet using web protocols. In other words, all Web APIs are APIs, but not all APIs are Web APIs.\n",
    "'''Q4. Explain REST and SOAP Architecture. Mention shortcomings of SOAP."
   ]
  },
  {
   "cell_type": "code",
   "execution_count": null,
   "id": "87bdbcad-d3c3-4d72-bb81-6f280f9869dd",
   "metadata": {},
   "outputs": [],
   "source": [
    "#"
   ]
  }
 ],
 "metadata": {
  "kernelspec": {
   "display_name": "Python 3 (ipykernel)",
   "language": "python",
   "name": "python3"
  },
  "language_info": {
   "codemirror_mode": {
    "name": "ipython",
    "version": 3
   },
   "file_extension": ".py",
   "mimetype": "text/x-python",
   "name": "python",
   "nbconvert_exporter": "python",
   "pygments_lexer": "ipython3",
   "version": "3.10.8"
  }
 },
 "nbformat": 4,
 "nbformat_minor": 5
}
