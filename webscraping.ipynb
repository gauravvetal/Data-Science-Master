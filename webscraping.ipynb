{
 "cells": [
  {
   "cell_type": "code",
   "execution_count": 1,
   "id": "1eb40fe7-c72a-4764-be63-9ce6d42575a5",
   "metadata": {},
   "outputs": [],
   "source": [
    "#Q1. What is Web Scraping? Why is it Used? Give three areas where Web Scraping is used to get data.\n",
    "'''Web scraping is the automated process of extracting data from websites. \n",
    "It's used for data collection and analysis, competitor monitoring, content aggregation, lead generation, and market research. \n",
    "It helps businesses and researchers gather valuable information from the web efficiently.'''"
   ]
  },
  {
   "cell_type": "code",
   "execution_count": null,
   "id": "020906aa-c445-49cd-ac81-61a90cefb812",
   "metadata": {},
   "outputs": [],
   "source": [
    "#Q2. What are the different methods used for Web Scraping?\n",
    "'''\n",
    "Different methods for web scraping include manual copying, HTML parsing with libraries like Beautiful Soup, using APIs when available, employing web scraping frameworks like Scrapy, utilizing headless browsers like Selenium, implementing proxy servers for anonymity, and advanced techniques like machine learning for data extraction. \n",
    "The choice depends on the project's complexity and website structure. \n",
    "Respect for website terms of service and legal considerations is essential when web scraping.\n",
    "'''"
   ]
  },
  {
   "cell_type": "code",
   "execution_count": 2,
   "id": "303079da-88da-4729-9f27-c440d327419a",
   "metadata": {},
   "outputs": [],
   "source": [
    "#Q3. What is Beautiful Soup? Why is it used?\n",
    "'''\n",
    "Beautiful Soup is a Python library used for web scraping and parsing HTML and XML documents. \n",
    "It's popular for its simplicity and flexibility in navigating and manipulating the elements of web pages. \n",
    "Beautiful Soup helps extract specific data from web pages, making it valuable for tasks like data extraction, web scraping, and content parsing in web development and data analysis projects.\n",
    "'''"
   ]
  },
  {
   "cell_type": "code",
   "execution_count": null,
   "id": "d516e30f-fcad-40be-a3d6-810cd5f3d0b2",
   "metadata": {},
   "outputs": [],
   "source": [
    "#Q4. Why is flask used in this Web Scraping project?\n",
    "'''\n",
    "Flask is used in web scraping projects to create a user-friendly interface for initiating and managing scraping tasks. \n",
    "It integrates well with Python-based scraping libraries, offers routing for structured URLs, and provides scalability options, streamlining the development of scraping applications.\n",
    "'''"
   ]
  },
  {
   "cell_type": "code",
   "execution_count": null,
   "id": "c206a27c-3a30-4300-96e1-20b16104c0a5",
   "metadata": {},
   "outputs": [],
   "source": [
    "#"
   ]
  }
 ],
 "metadata": {
  "kernelspec": {
   "display_name": "Python 3 (ipykernel)",
   "language": "python",
   "name": "python3"
  },
  "language_info": {
   "codemirror_mode": {
    "name": "ipython",
    "version": 3
   },
   "file_extension": ".py",
   "mimetype": "text/x-python",
   "name": "python",
   "nbconvert_exporter": "python",
   "pygments_lexer": "ipython3",
   "version": "3.10.8"
  }
 },
 "nbformat": 4,
 "nbformat_minor": 5
}
