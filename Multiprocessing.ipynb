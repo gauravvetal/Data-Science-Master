{
 "cells": [
  {
   "cell_type": "code",
   "execution_count": 1,
   "id": "6c24bd57-1f40-4899-883d-717a5fa04b3b",
   "metadata": {},
   "outputs": [],
   "source": [
    "#Q1 What is multiprocessing in python? Why is it useful?\n",
    "#Multiprocessing in Python refers to the ability of the language to execute multiple processes concurrently, allowing for parallel execution of tasks. \n",
    "#It is useful for improving performance and efficiency in computationally intensive or time-consuming tasks by utilizing multiple CPU cores or processors.\n",
    "#This enables faster execution and better utilization of system resources.\n"
   ]
  },
  {
   "cell_type": "code",
   "execution_count": 2,
   "id": "a2d7532c-92e3-4686-b753-fdc7e54eb855",
   "metadata": {},
   "outputs": [],
   "source": [
    "#Q2 What are the differences between multiprocessing and multithreading?\n",
    "#Multiprocessing involves running multiple processes simultaneously, each with its own memory space, allowing for true parallel execution. It utilizes multiple processors or cores to execute tasks concurrently.\n",
    "\n",
    "#Multithreading, on the other hand, involves executing multiple threads within a single process. Threads share the same memory space, and they are scheduled and executed by the operating system's thread scheduler. Multithreading enables concurrent execution but within a shared memory space."
   ]
  },
  {
   "cell_type": "code",
   "execution_count": 6,
   "id": "5fe5c007-247e-4c8e-8892-e6b29e5dc0ce",
   "metadata": {},
   "outputs": [
    {
     "name": "stdout",
     "output_type": "stream",
     "text": [
      "25\n"
     ]
    }
   ],
   "source": [
    "#Q3. Write a python code to create a process using the multiprocessing module.\n",
    "import multiprocessing\n",
    "def sq(n):\n",
    "    r = n**2\n",
    "    print(r)\n",
    "if __name__=='__main__':\n",
    "    n=5\n",
    "    m=multiprocessing.Process(target=sq,args=(n,))\n",
    "    m.start()\n",
    "    m.join()"
   ]
  },
  {
   "cell_type": "code",
   "execution_count": 7,
   "id": "88b6d2c5-bfa0-4b7b-8cf6-769bfd5053f4",
   "metadata": {},
   "outputs": [],
   "source": [
    "#Q4 What is a multiprocessing pool in python? Why is it used?\n",
    "#A multiprocessing pool in Python is a way to execute multiple tasks simultaneously using multiple processes. \n",
    "#It allows for parallel processing, where each task is assigned to a separate process, enabling efficient utilization of available CPU cores. \n",
    "#This can significantly speed up the execution of tasks that can be processed independently, such as iterating over a large dataset or performing computationally intensive operations."
   ]
  },
  {
   "cell_type": "code",
   "execution_count": 1,
   "id": "cdfc99b9-0062-4fe4-9d3a-bc384d5f3362",
   "metadata": {},
   "outputs": [
    {
     "name": "stdout",
     "output_type": "stream",
     "text": [
      "[4, 9, 16, 25, 36, 49]\n"
     ]
    }
   ],
   "source": [
    "#Q5 How can we create a pool of worker processes in python using the multiprocessing module?\n",
    "import multiprocessing\n",
    "def squ(n):\n",
    "    r=n**2 \n",
    "    return r\n",
    "if __name__=='__main__':\n",
    "    np=4\n",
    "    p=multiprocessing.Pool(processes=np)\n",
    "    n=[2,3,4,5,6,7]\n",
    "    r=p.map(squ,n)\n",
    "    p.close()\n",
    "    p.join()\n",
    "    print(r)"
   ]
  },
  {
   "cell_type": "code",
   "execution_count": 13,
   "id": "97c9d347-2eaa-496d-a93a-039d1056b387",
   "metadata": {},
   "outputs": [
    {
     "name": "stdout",
     "output_type": "stream",
     "text": [
      "1234\n",
      "\n",
      "\n",
      "\n"
     ]
    }
   ],
   "source": [
    "#Q6 Write a python program to create 4 processes, each process should print a different number using the multiprocessing module in python.\n",
    "import multiprocessing\n",
    "def np(n):\n",
    "    print(n)\n",
    "if __name__=='__main__':\n",
    "    nop=4\n",
    "    nn=[1,2,3,4]\n",
    "    p=multiprocessing.Pool(processes=nop)\n",
    "    m=p.map(np,nn)\n",
    "    p.close()\n",
    "    p.join()\n",
    "    "
   ]
  },
  {
   "cell_type": "code",
   "execution_count": null,
   "id": "25faeb7a-d2f1-46b4-8493-ea7f274ffdd5",
   "metadata": {},
   "outputs": [],
   "source": []
  },
  {
   "cell_type": "code",
   "execution_count": null,
   "id": "11cd76df-d332-4bca-9ca7-fc6e61366666",
   "metadata": {},
   "outputs": [],
   "source": []
  }
 ],
 "metadata": {
  "kernelspec": {
   "display_name": "Python 3 (ipykernel)",
   "language": "python",
   "name": "python3"
  },
  "language_info": {
   "codemirror_mode": {
    "name": "ipython",
    "version": 3
   },
   "file_extension": ".py",
   "mimetype": "text/x-python",
   "name": "python",
   "nbconvert_exporter": "python",
   "pygments_lexer": "ipython3",
   "version": "3.10.8"
  }
 },
 "nbformat": 4,
 "nbformat_minor": 5
}
