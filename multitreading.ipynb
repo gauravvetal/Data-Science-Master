{
 "cells": [
  {
   "cell_type": "code",
   "execution_count": 1,
   "id": "d57e3ada-0b88-46a5-a045-80e3f4c96806",
   "metadata": {},
   "outputs": [],
   "source": [
    "#Q1"
   ]
  },
  {
   "cell_type": "code",
   "execution_count": 2,
   "id": "0dda0765-2ccf-425b-b8a0-5c66ebeba955",
   "metadata": {},
   "outputs": [],
   "source": [
    "#Multithreading in Python refers to the ability of a program to execute multiple threads concurrently, allowing for parallel processing and improved performance. Each thread is a separate flow of execution within a single process, sharing the same memory space as the parent process.\n",
    "#Multithreading is used in Python to perform tasks concurrently, such as performing multiple I/O-bound or CPU-bound operations simultaneously, making efficient use of available system resources and improving the overall performance of the program.\n",
    "#The module used to handle threads in Python is called \"threading\". The \"threading\" module provides a way to create, start, stop, and manage threads in Python, along with features like thread synchronization, thread safety, and inter-thread communication mechanisms."
   ]
  },
  {
   "cell_type": "code",
   "execution_count": 3,
   "id": "1d879672-f6f8-4ff5-98a1-a4b89f8d476f",
   "metadata": {},
   "outputs": [],
   "source": [
    "#Q2"
   ]
  },
  {
   "cell_type": "code",
   "execution_count": 4,
   "id": "d4e004db-8c96-47a0-899b-f612f7d48e9a",
   "metadata": {},
   "outputs": [
    {
     "data": {
      "text/plain": [
       "'\\nThe \"threading\" module in Python is used for creating and managing threads, which are separate flows of execution within a single process. Threads can run concurrently and can be used to perform tasks simultaneously, making efficient use of system resources.\\nThe following are the use cases of the functions in the \"threading\" module:\\nactiveCount(): This function is used to get the number of Thread objects currently active (i.e., running or in a paused state) in the current Python process. It can be useful for monitoring the number of threads that are currently active and can be used for debugging or performance analysis.\\ncurrentThread(): This function is used to get the current Thread object corresponding to the caller\\'s thread of control. It returns the Thread object representing the currently executing thread. It can be useful for identifying the current thread and accessing its attributes or methods.\\nenumerate(): This function is used to get a list of all Thread objects currently active (i.e., running or in a paused state) in the current Python process. It returns a list of Thread objects. It can be useful for obtaining information about all the threads that are currently active and performing operations on them.\\n'"
      ]
     },
     "execution_count": 4,
     "metadata": {},
     "output_type": "execute_result"
    }
   ],
   "source": [
    "'''\n",
    "The \"threading\" module in Python is used for creating and managing threads, which are separate flows of execution within a single process. Threads can run concurrently and can be used to perform tasks simultaneously, making efficient use of system resources.\n",
    "The following are the use cases of the functions in the \"threading\" module:\n",
    "activeCount(): This function is used to get the number of Thread objects currently active (i.e., running or in a paused state) in the current Python process. It can be useful for monitoring the number of threads that are currently active and can be used for debugging or performance analysis.\n",
    "currentThread(): This function is used to get the current Thread object corresponding to the caller's thread of control. It returns the Thread object representing the currently executing thread. It can be useful for identifying the current thread and accessing its attributes or methods.\n",
    "enumerate(): This function is used to get a list of all Thread objects currently active (i.e., running or in a paused state) in the current Python process. It returns a list of Thread objects. It can be useful for obtaining information about all the threads that are currently active and performing operations on them.\n",
    "'''"
   ]
  },
  {
   "cell_type": "code",
   "execution_count": 5,
   "id": "feea1cd8-6081-4b5f-85ff-10dbdbd001e3",
   "metadata": {},
   "outputs": [],
   "source": [
    "#Q3"
   ]
  },
  {
   "cell_type": "code",
   "execution_count": 7,
   "id": "cfff5cf2-ba8f-4eaa-9783-34cc037bee4d",
   "metadata": {},
   "outputs": [
    {
     "data": {
      "text/plain": [
       "'\\nrun(): Method called when a thread starts running.\\nstart(): Method used to start a thread.\\njoin(): Method used to wait for a thread to finish.\\nisAlive(): Method used to check if a thread is currently running or alive.\\n'"
      ]
     },
     "execution_count": 7,
     "metadata": {},
     "output_type": "execute_result"
    }
   ],
   "source": [
    "'''\n",
    "run(): Method called when a thread starts running.\n",
    "start(): Method used to start a thread.\n",
    "join(): Method used to wait for a thread to finish.\n",
    "isAlive(): Method used to check if a thread is currently running or alive.\n",
    "'''"
   ]
  },
  {
   "cell_type": "code",
   "execution_count": 12,
   "id": "9e958c83-fa46-44d5-86dc-86b12aa498ea",
   "metadata": {},
   "outputs": [
    {
     "name": "stdout",
     "output_type": "stream",
     "text": [
      "Square of 1 is 1\n",
      "Square of 2 is 4\n",
      "Square of 3 is 9\n",
      "Square of 4 is 16\n",
      "Square of 5 is 25\n",
      "Cube of 1 is 1\n",
      "Cube of 2 is 8\n",
      "Cube of 3 is 27\n",
      "Cube of 4 is 64\n",
      "Cube of 5 is 125\n",
      "Program finished\n"
     ]
    }
   ],
   "source": [
    "import threading\n",
    "\n",
    "def print_squares():\n",
    "    for i in range(1, 6):\n",
    "        print(\"Square of\", i, \"is\", i**2)\n",
    "\n",
    "def print_cubes():\n",
    "    for i in range(1, 6):\n",
    "        print(\"Cube of\", i, \"is\", i**3)\n",
    "\n",
    "# Create two threads\n",
    "t1 = threading.Thread(target=print_squares)\n",
    "t2 = threading.Thread(target=print_cubes)\n",
    "\n",
    "# Start the threads\n",
    "t1.start()\n",
    "t2.start()\n",
    "\n",
    "# Wait for both threads to finish\n",
    "t1.join()\n",
    "t2.join()\n",
    "\n",
    "print(\"Program finished\")\n"
   ]
  },
  {
   "cell_type": "code",
   "execution_count": 13,
   "id": "eb93b074-1b86-454f-9b14-5cc2d47596b4",
   "metadata": {},
   "outputs": [],
   "source": [
    "#Q5"
   ]
  },
  {
   "cell_type": "code",
   "execution_count": 14,
   "id": "6466f0dd-4266-43aa-b85a-5ac819f282ce",
   "metadata": {},
   "outputs": [
    {
     "data": {
      "text/plain": [
       "'\\nAdvantages of Multithreading: Increased performance, improved responsiveness, efficient resource utilization, and scalability.\\nDisadvantages of Multithreading: Complexity, debugging challenges, thread coordination overhead, potential for portability issues, and potential for performance degradation.\\n'"
      ]
     },
     "execution_count": 14,
     "metadata": {},
     "output_type": "execute_result"
    }
   ],
   "source": [
    "'''\n",
    "Advantages of Multithreading: Increased performance, improved responsiveness, efficient resource utilization, and scalability.\n",
    "Disadvantages of Multithreading: Complexity, debugging challenges, thread coordination overhead, potential for portability issues, and potential for performance degradation.\n",
    "'''"
   ]
  },
  {
   "cell_type": "code",
   "execution_count": 15,
   "id": "e1b1d5bd-0c47-4eed-9f63-91264a77f706",
   "metadata": {},
   "outputs": [],
   "source": [
    "#Q6"
   ]
  },
  {
   "cell_type": "code",
   "execution_count": null,
   "id": "3009f0ef-e18a-4cc9-b961-3b565338224f",
   "metadata": {},
   "outputs": [],
   "source": [
    "'''\n",
    "A deadlock is a situation where threads or processes are waiting for each other to release resources, resulting in a standstill and blocking the progress of all threads involved. \n",
    "A race condition is a situation where multiple threads access a shared resource simultaneously, leading to unpredictable and undesirable behavior. Both can result in program failures or unexpected outcomes, and proper synchronization mechanisms should be used to prevent or mitigate these issues in concurrent programs.\n",
    "'''"
   ]
  }
 ],
 "metadata": {
  "kernelspec": {
   "display_name": "Python 3 (ipykernel)",
   "language": "python",
   "name": "python3"
  },
  "language_info": {
   "codemirror_mode": {
    "name": "ipython",
    "version": 3
   },
   "file_extension": ".py",
   "mimetype": "text/x-python",
   "name": "python",
   "nbconvert_exporter": "python",
   "pygments_lexer": "ipython3",
   "version": "3.10.8"
  }
 },
 "nbformat": 4,
 "nbformat_minor": 5
}
