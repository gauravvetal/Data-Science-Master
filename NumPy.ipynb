{
 "cells": [
  {
   "cell_type": "code",
   "execution_count": 2,
   "id": "971ebbd4-c2ba-4fcc-b7ab-3b9f53c58d27",
   "metadata": {},
   "outputs": [],
   "source": [
    "import numpy as np\n",
    "list_ = [ '1' , '2' , '3' , '4' , '5' ]\n",
    "array_list = np.array(object = list_)"
   ]
  },
  {
   "cell_type": "code",
   "execution_count": 5,
   "id": "173e5cac-88b7-43a6-bc21-ac33565b0093",
   "metadata": {},
   "outputs": [
    {
     "data": {
      "text/plain": [
       "numpy.ndarray"
      ]
     },
     "execution_count": 5,
     "metadata": {},
     "output_type": "execute_result"
    }
   ],
   "source": [
    "#Q1. Is there any difference in the data type of variables list_ and array_list? If there is then write a code to print the data types of both the variables.\n",
    "type(array_list)"
   ]
  },
  {
   "cell_type": "code",
   "execution_count": 4,
   "id": "b38f763c-e3f4-40a6-871d-8493d6887797",
   "metadata": {},
   "outputs": [
    {
     "data": {
      "text/plain": [
       "list"
      ]
     },
     "execution_count": 4,
     "metadata": {},
     "output_type": "execute_result"
    }
   ],
   "source": [
    "type(list_)"
   ]
  },
  {
   "cell_type": "code",
   "execution_count": 16,
   "id": "502a513d-4c1f-44b4-937e-063349453dc2",
   "metadata": {},
   "outputs": [
    {
     "name": "stdout",
     "output_type": "stream",
     "text": [
      "<class 'numpy.str_'>\n",
      "<class 'numpy.str_'>\n",
      "<class 'numpy.str_'>\n",
      "<class 'numpy.str_'>\n",
      "<class 'numpy.str_'>\n"
     ]
    }
   ],
   "source": [
    "#Q2. Write a code to print the data type of each and every element of both the variables list_ and arra_list.\n",
    "for i in array_list:\n",
    "    print(type(i))"
   ]
  },
  {
   "cell_type": "code",
   "execution_count": 21,
   "id": "45edc48e-03cb-46d1-8ca3-3333e5f18d6f",
   "metadata": {},
   "outputs": [
    {
     "name": "stdout",
     "output_type": "stream",
     "text": [
      "for list_\n",
      "<class 'numpy.int64'>\n",
      "<class 'numpy.int64'>\n",
      "<class 'numpy.int64'>\n",
      "<class 'numpy.int64'>\n",
      "<class 'numpy.int64'>\n",
      "\n",
      " for array_list\n",
      "<class 'numpy.int64'>\n",
      "<class 'numpy.int64'>\n",
      "<class 'numpy.int64'>\n",
      "<class 'numpy.int64'>\n",
      "<class 'numpy.int64'>\n"
     ]
    }
   ],
   "source": [
    "#Q3. Considering the following changes in the variable, array_list:\n",
    "#array_list = np.array(object = list_, dtype = int) \n",
    "#Will there be any difference in the data type of the elements present in both the variables, list_ and arra_list? If so then print the data types of each and every element present in both the variables, list_ and array_list.\n",
    "array_list = np.array(object = list_, dtype = int) \n",
    "print(\"for list_\")\n",
    "for i in array_list:\n",
    "    print(type(i))\n",
    "print(\"\\n for array_list\")\n",
    "for i in array_list:\n",
    "    print(type(i))"
   ]
  },
  {
   "cell_type": "code",
   "execution_count": 22,
   "id": "d32845e3-27a0-4137-9882-d945b8340740",
   "metadata": {},
   "outputs": [],
   "source": [
    "num_list = [ [ 1 , 2 , 3 ] , [ 4 , 5 , 6 ] ]\n",
    "num_array = np.array(object = num_list)"
   ]
  },
  {
   "cell_type": "code",
   "execution_count": 23,
   "id": "91afbd21-4246-4026-bd2f-e9d548ac3b60",
   "metadata": {},
   "outputs": [
    {
     "data": {
      "text/plain": [
       "6"
      ]
     },
     "execution_count": 23,
     "metadata": {},
     "output_type": "execute_result"
    }
   ],
   "source": [
    "#Q4. Write a code to find the following characteristics of variable, num_array:\n",
    "#(i) shape\n",
    "#(ii) size\n",
    "\n",
    "num_array.size"
   ]
  },
  {
   "cell_type": "code",
   "execution_count": 25,
   "id": "4b60611d-ccf2-478e-9488-8c749b8d21f4",
   "metadata": {},
   "outputs": [
    {
     "data": {
      "text/plain": [
       "(2, 3)"
      ]
     },
     "execution_count": 25,
     "metadata": {},
     "output_type": "execute_result"
    }
   ],
   "source": [
    "num_array.shape"
   ]
  },
  {
   "cell_type": "code",
   "execution_count": 29,
   "id": "d950b057-82f8-4f60-be46-37b69c64ec26",
   "metadata": {},
   "outputs": [
    {
     "data": {
      "text/plain": [
       "array([[0., 0., 0.],\n",
       "       [0., 0., 0.],\n",
       "       [0., 0., 0.]])"
      ]
     },
     "execution_count": 29,
     "metadata": {},
     "output_type": "execute_result"
    }
   ],
   "source": [
    "#Q5. Write a code to create numpy array of 3*3 matrix containing zeros only, using a numpy array creation function.\n",
    "array1 = np.zeros([3,3])\n",
    "array1"
   ]
  },
  {
   "cell_type": "code",
   "execution_count": 33,
   "id": "4b5ed411-6be6-4d13-a9da-2d490c863c18",
   "metadata": {},
   "outputs": [
    {
     "data": {
      "text/plain": [
       "array([[1., 0., 0., 0., 0.],\n",
       "       [0., 1., 0., 0., 0.],\n",
       "       [0., 0., 1., 0., 0.],\n",
       "       [0., 0., 0., 1., 0.],\n",
       "       [0., 0., 0., 0., 1.]])"
      ]
     },
     "execution_count": 33,
     "metadata": {},
     "output_type": "execute_result"
    }
   ],
   "source": [
    "#Q6. Create an identity matrix of shape (5,5) using numpy functions?\n",
    "array2 = np.eye(5,5)\n",
    "array2"
   ]
  },
  {
   "cell_type": "code",
   "execution_count": null,
   "id": "ca740000-d3b8-403c-b2b6-beb8743e9e03",
   "metadata": {},
   "outputs": [],
   "source": []
  }
 ],
 "metadata": {
  "kernelspec": {
   "display_name": "Python 3 (ipykernel)",
   "language": "python",
   "name": "python3"
  },
  "language_info": {
   "codemirror_mode": {
    "name": "ipython",
    "version": 3
   },
   "file_extension": ".py",
   "mimetype": "text/x-python",
   "name": "python",
   "nbconvert_exporter": "python",
   "pygments_lexer": "ipython3",
   "version": "3.10.8"
  }
 },
 "nbformat": 4,
 "nbformat_minor": 5
}
