{
 "cells": [
  {
   "cell_type": "code",
   "execution_count": 1,
   "id": "d6d12537-3b32-4c2d-975e-c09c908e5166",
   "metadata": {},
   "outputs": [
    {
     "data": {
      "text/plain": [
       "\"A database is a structured collection of data for efficient storage, retrieval, and management.\\n\\nSQL databases (relational databases) use structured query language (SQL) and have a predefined schema with tables to store data. \\nThey offer strong consistency and support complex queries but are less flexible with unstructured or rapidly changing data.\\n\\nNoSQL databases (non-relational databases) are designed for unstructured and rapidly changing data. \\nThey don't rely on a fixed schema, provide flexible data modeling, and scale horizontally. \\nHowever, they may sacrifice some features like strong consistency and complex querying.\\n\""
      ]
     },
     "execution_count": 1,
     "metadata": {},
     "output_type": "execute_result"
    }
   ],
   "source": [
    "'''A database is a structured collection of data for efficient storage, retrieval, and management.\n",
    "\n",
    "SQL databases (relational databases) use structured query language (SQL) and have a predefined schema with tables to store data. \n",
    "They offer strong consistency and support complex queries but are less flexible with unstructured or rapidly changing data.\n",
    "\n",
    "NoSQL databases (non-relational databases) are designed for unstructured and rapidly changing data. \n",
    "They don't rely on a fixed schema, provide flexible data modeling, and scale horizontally. \n",
    "However, they may sacrifice some features like strong consistency and complex querying.\n",
    "'''"
   ]
  },
  {
   "cell_type": "code",
   "execution_count": 4,
   "id": "dd2b6313-4d9d-4854-b856-6d7a37ad86ff",
   "metadata": {},
   "outputs": [
    {
     "data": {
      "text/plain": [
       "'\\nDDL stands for Data Definition Language. It is a subset of SQL used to define and manage the structure of a database.\\n\\nCREATE is used to create database objects like tables, views, indexes, or procedures. For example, \"CREATE TABLE\" is used to create a new table in a database.\\nCREATE TABLE EmployeesInfo (\\n    EmployeeID INT,\\n    FirstName VARCHAR(50),\\n    LastName VARCHAR(50),\\n    Department VARCHAR(50)\\n);\\n\\n\\nDROP is used to delete database objects. For example, \"DROP TABLE\" is used to remove a table from a database.\\nDROP TABLE EmployeesInfo;\\n\\n\\nALTER is used to modify the structure of existing database objects. For example, \"ALTER TABLE\" is used to add or remove columns from a table.\\nALTER TABLE EmployeesInfo\\nADD Salary DECIMAL(10,2);\\n\\nTRUNCATE is used to delete all the data in a table while keeping its structure intact. For example, \"TRUNCATE TABLE\" is used to remove all rows from a table, effectively emptying it.\\nTRUNCATE TABLE EmployeesInfo;\\n\\nThese DDL statements allow for the creation, deletion, modification, and truncation of database objects, helping to define and manage the structure of a database.\\n'"
      ]
     },
     "execution_count": 4,
     "metadata": {},
     "output_type": "execute_result"
    }
   ],
   "source": [
    "'''\n",
    "DDL stands for Data Definition Language. It is a subset of SQL used to define and manage the structure of a database.\n",
    "\n",
    "CREATE is used to create database objects like tables, views, indexes, or procedures. For example, \"CREATE TABLE\" is used to create a new table in a database.\n",
    "CREATE TABLE EmployeesInfo (\n",
    "    EmployeeID INT,\n",
    "    FirstName VARCHAR(50),\n",
    "    LastName VARCHAR(50),\n",
    "    Department VARCHAR(50)\n",
    ");\n",
    "\n",
    "\n",
    "DROP is used to delete database objects. For example, \"DROP TABLE\" is used to remove a table from a database.\n",
    "DROP TABLE EmployeesInfo;\n",
    "\n",
    "\n",
    "ALTER is used to modify the structure of existing database objects. For example, \"ALTER TABLE\" is used to add or remove columns from a table.\n",
    "ALTER TABLE EmployeesInfo\n",
    "ADD Salary DECIMAL(10,2);\n",
    "\n",
    "TRUNCATE is used to delete all the data in a table while keeping its structure intact. For example, \"TRUNCATE TABLE\" is used to remove all rows from a table, effectively emptying it.\n",
    "TRUNCATE TABLE EmployeesInfo;\n",
    "\n",
    "These DDL statements allow for the creation, deletion, modification, and truncation of database objects, helping to define and manage the structure of a database.\n",
    "'''"
   ]
  },
  {
   "cell_type": "code",
   "execution_count": 5,
   "id": "9de2b67c-3300-496a-9131-6fb392821e0d",
   "metadata": {},
   "outputs": [
    {
     "data": {
      "text/plain": [
       "'\\nDML stands for Data Manipulation Language. It is a subset of SQL used to manipulate and modify data within a database.\\n\\nINSERT is used to add new records into a table. For example, to insert a new employee record into the \"EmployeesInfo\" table.\\nINSERT INTO EmployeesInfo (EmployeeID, FirstName, LastName, Department)\\nVALUES (1, \\'John\\', \\'Doe\\', \\'Sales\\');\\n\\nUPDATE is used to modify existing records in a table. For example, if we want to update the department of an employee with EmployeeID 1 in the \"EmployeesInfo\" table.\\nUPDATE EmployeesInfo\\nSET Department = \\'Marketing\\'\\nWHERE EmployeeID = 1;\\n\\nDELETE is used to remove records from a table. For example, if we want to delete an employee with EmployeeID 1 from the \"EmployeesInfo\" table.\\nDELETE FROM EmployeesInfo\\nWHERE EmployeeID = 1;\\n'"
      ]
     },
     "execution_count": 5,
     "metadata": {},
     "output_type": "execute_result"
    }
   ],
   "source": [
    "'''\n",
    "DML stands for Data Manipulation Language. It is a subset of SQL used to manipulate and modify data within a database.\n",
    "\n",
    "INSERT is used to add new records into a table. For example, to insert a new employee record into the \"EmployeesInfo\" table.\n",
    "INSERT INTO EmployeesInfo (EmployeeID, FirstName, LastName, Department)\n",
    "VALUES (1, 'John', 'Doe', 'Sales');\n",
    "\n",
    "UPDATE is used to modify existing records in a table. For example, if we want to update the department of an employee with EmployeeID 1 in the \"EmployeesInfo\" table.\n",
    "UPDATE EmployeesInfo\n",
    "SET Department = 'Marketing'\n",
    "WHERE EmployeeID = 1;\n",
    "\n",
    "DELETE is used to remove records from a table. For example, if we want to delete an employee with EmployeeID 1 from the \"EmployeesInfo\" table.\n",
    "DELETE FROM EmployeesInfo\n",
    "WHERE EmployeeID = 1;\n",
    "'''"
   ]
  },
  {
   "cell_type": "code",
   "execution_count": 6,
   "id": "c5368ea6-fd19-4371-881f-2a58335da7c5",
   "metadata": {},
   "outputs": [
    {
     "data": {
      "text/plain": [
       "'\\nDQL stands for Data Query Language. \\nSELECT is a commonly used DQL statement used to retrieve specific data from one or more tables in a database. \\nFor example:\\nSELECT FirstName, LastName, Department\\nFROM EmployeesInfo;\\n'"
      ]
     },
     "execution_count": 6,
     "metadata": {},
     "output_type": "execute_result"
    }
   ],
   "source": [
    "'''\n",
    "DQL stands for Data Query Language. \n",
    "SELECT is a commonly used DQL statement used to retrieve specific data from one or more tables in a database. \n",
    "For example:\n",
    "SELECT FirstName, LastName, Department\n",
    "FROM EmployeesInfo;\n",
    "'''"
   ]
  },
  {
   "cell_type": "code",
   "execution_count": 7,
   "id": "0560c0c3-8d3c-490f-bbac-74d5cbd43b50",
   "metadata": {},
   "outputs": [
    {
     "data": {
      "text/plain": [
       "'\\nPrimary Key: A primary key is a unique identifier for a record in a table. \\nIt ensures uniqueness, non-nullability, and data integrity within the table.\\n\\nForeign Key: A foreign key establishes a relationship between two tables by referencing the primary key of another table. \\nIt enforces referential integrity and maintains data consistency between related tables.\\n'"
      ]
     },
     "execution_count": 7,
     "metadata": {},
     "output_type": "execute_result"
    }
   ],
   "source": [
    "'''\n",
    "Primary Key: A primary key is a unique identifier for a record in a table. \n",
    "It ensures uniqueness, non-nullability, and data integrity within the table.\n",
    "\n",
    "Foreign Key: A foreign key establishes a relationship between two tables by referencing the primary key of another table. \n",
    "It enforces referential integrity and maintains data consistency between related tables.\n",
    "'''"
   ]
  },
  {
   "cell_type": "code",
   "execution_count": 10,
   "id": "b9bd9170-f784-4296-899a-d15bea335206",
   "metadata": {},
   "outputs": [
    {
     "data": {
      "text/plain": [
       "'\\nimport mysql.connector\\n\\n# Establishing the connection\\nconnection = mysql.connector.connect(\\n    host=\"localhost\",\\n    user=\"your_username\",\\n    password=\"your_password\",\\n    database=\"your_database\"\\n)\\n\\n# Creating a cursor object\\ncursor = connection.cursor()\\n\\n# Executing SQL queries\\ncursor.execute(\"SELECT * FROM employees\")\\nresult = cursor.fetchall()\\n\\n# Printing the query result\\nfor row in result:\\n    print(row)\\n\\n# Closing the cursor and connection\\ncursor.close()\\nconnection.close()\\n\\n\\nWe create a cursor object using the cursor() method. The cursor serves as a handle or pointer to execute SQL queries and retrieve results from the database.\\n\\nThe execute() method is used to execute SQL queries. In this example, we execute a SELECT query to fetch all records from the \"employees\" table. \\nThe fetchall() method retrieves all the rows returned by the query.\\n\\n'"
      ]
     },
     "execution_count": 10,
     "metadata": {},
     "output_type": "execute_result"
    }
   ],
   "source": [
    "'''\n",
    "import mysql.connector\n",
    "\n",
    "# Establishing the connection\n",
    "connection = mysql.connector.connect(\n",
    "    host=\"localhost\",\n",
    "    user=\"your_username\",\n",
    "    password=\"your_password\",\n",
    "    database=\"your_database\"\n",
    ")\n",
    "\n",
    "# Creating a cursor object\n",
    "cursor = connection.cursor()\n",
    "\n",
    "# Executing SQL queries\n",
    "cursor.execute(\"SELECT * FROM employees\")\n",
    "result = cursor.fetchall()\n",
    "\n",
    "# Printing the query result\n",
    "for row in result:\n",
    "    print(row)\n",
    "\n",
    "# Closing the cursor and connection\n",
    "cursor.close()\n",
    "connection.close()\n",
    "\n",
    "\n",
    "We create a cursor object using the cursor() method. The cursor serves as a handle or pointer to execute SQL queries and retrieve results from the database.\n",
    "\n",
    "The execute() method is used to execute SQL queries. In this example, we execute a SELECT query to fetch all records from the \"employees\" table. \n",
    "The fetchall() method retrieves all the rows returned by the query.\n",
    "\n",
    "'''"
   ]
  },
  {
   "cell_type": "code",
   "execution_count": null,
   "id": "94bf2645-5af0-48c2-8456-1b502f0cadf4",
   "metadata": {},
   "outputs": [],
   "source": [
    "'''\n",
    "FROM: The FROM clause specifies the tables that are involved in the query.\n",
    "JOIN: The JOIN clause specifies how the tables are related to each other.\n",
    "WHERE: The WHERE clause specifies the conditions that the rows must meet in order to be included in the result set.\n",
    "GROUP BY: The GROUP BY clause specifies how the rows are grouped together.\n",
    "HAVING: The HAVING clause specifies the conditions that the groups must meet in order to be included in the result set.\n",
    "SELECT: The SELECT clause specifies the columns that are included in the result set.\n",
    "ORDER BY: The ORDER BY clause specifies the order in which the rows are returned.\n",
    "LIMIT: The LIMIT clause specifies the number of rows that are returned.\n",
    "'''"
   ]
  }
 ],
 "metadata": {
  "kernelspec": {
   "display_name": "Python 3 (ipykernel)",
   "language": "python",
   "name": "python3"
  },
  "language_info": {
   "codemirror_mode": {
    "name": "ipython",
    "version": 3
   },
   "file_extension": ".py",
   "mimetype": "text/x-python",
   "name": "python",
   "nbconvert_exporter": "python",
   "pygments_lexer": "ipython3",
   "version": "3.10.8"
  }
 },
 "nbformat": 4,
 "nbformat_minor": 5
}
