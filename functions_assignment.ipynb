{
 "cells": [
  {
   "cell_type": "code",
   "execution_count": 1,
   "id": "522d0124-1c3e-44d3-b41f-0b7d657bab26",
   "metadata": {},
   "outputs": [],
   "source": [
    "#Q1 \n",
    "#def keyword is used to define a function.\n",
    "def test0():\n",
    "    n=[]\n",
    "    for i in range(1,26):\n",
    "        if i%2!=0:\n",
    "            n.append(i)\n",
    "    return n"
   ]
  },
  {
   "cell_type": "code",
   "execution_count": 2,
   "id": "87429ce5-504a-4a1e-9e91-ea928b4c844a",
   "metadata": {},
   "outputs": [
    {
     "data": {
      "text/plain": [
       "[1, 3, 5, 7, 9, 11, 13, 15, 17, 19, 21, 23, 25]"
      ]
     },
     "execution_count": 2,
     "metadata": {},
     "output_type": "execute_result"
    }
   ],
   "source": [
    "test0()"
   ]
  },
  {
   "cell_type": "code",
   "execution_count": 3,
   "id": "6b3997e9-fdf0-4116-a2d8-e7604a57a6a8",
   "metadata": {},
   "outputs": [],
   "source": [
    "#Q2\n",
    "#We use *args and **kwargs as an argument when we are unsure about the number of arguments to pass in the functions.\n",
    "def test1(*arg):\n",
    "    for i in arg:\n",
    "        print(i)"
   ]
  },
  {
   "cell_type": "code",
   "execution_count": 4,
   "id": "e0a70a8c-ff90-4775-be70-bbc7550475c9",
   "metadata": {},
   "outputs": [
    {
     "name": "stdout",
     "output_type": "stream",
     "text": [
      "1\n",
      "2\n",
      "3\n",
      "23\n",
      "6\n",
      "78\n"
     ]
    }
   ],
   "source": [
    "test1(1,2,3,23,6,78)"
   ]
  },
  {
   "cell_type": "code",
   "execution_count": 5,
   "id": "871f21fd-3de3-4e61-b9d1-c519b8d24264",
   "metadata": {},
   "outputs": [],
   "source": [
    "def test2(**kwarg):\n",
    "    return kwarg"
   ]
  },
  {
   "cell_type": "code",
   "execution_count": 6,
   "id": "8a0e50e0-4b17-4c62-924b-1cd10ebdcb27",
   "metadata": {},
   "outputs": [
    {
     "data": {
      "text/plain": [
       "{'a': 1, 'b': 2, 'j': 34}"
      ]
     },
     "execution_count": 6,
     "metadata": {},
     "output_type": "execute_result"
    }
   ],
   "source": [
    "test2(a=1,b=2,j=34)"
   ]
  },
  {
   "cell_type": "code",
   "execution_count": 7,
   "id": "71f08e5b-c48d-4225-a1fb-63860c808aba",
   "metadata": {},
   "outputs": [],
   "source": [
    "#Q3\n",
    "#An iterator in Python is an object that can be iterated upon, meaning it can be used in a for loop or other context where items are fetched one by one.\n",
    "#The method used to initialize the iterator object is iter(). The method used for iteration is next().\n",
    "def test3(*ar):\n",
    "    nar=iter(ar)\n",
    "    for i in range(5):\n",
    "        print(next(nar))\n",
    "     \n",
    "        "
   ]
  },
  {
   "cell_type": "code",
   "execution_count": 8,
   "id": "047346eb-ee4f-4f71-8797-e6338e6f50bd",
   "metadata": {},
   "outputs": [
    {
     "name": "stdout",
     "output_type": "stream",
     "text": [
      "2\n",
      "4\n",
      "6\n",
      "8\n",
      "10\n"
     ]
    }
   ],
   "source": [
    "test3(2, 4, 6, 8, 10, 12, 14, 16,\n",
    "18, 20)"
   ]
  },
  {
   "cell_type": "code",
   "execution_count": 9,
   "id": "ce2a5a71-00e0-4829-a86d-39bd166a41a2",
   "metadata": {},
   "outputs": [],
   "source": [
    "#Q4\n",
    "#A generator function in Python is a type of function that returns an iterator (a generator object) that generates values one at a time. \n",
    "#The yield keyword is used in the function to indicate the value to be returned in the iterator. \n",
    "#Unlike a normal function, which runs to completion and returns a single value, a generator function can be paused and resumed multiple times, allowing it to generate a series of values over time.\n",
    "#This makes generator functions a useful tool for working with large or infinite sequences of data.\n",
    "def test4():\n",
    "    a,b=0,1\n",
    "    while True:\n",
    "        yield a\n",
    "        a,b=b,a+b\n",
    "tst=test4()\n"
   ]
  },
  {
   "cell_type": "code",
   "execution_count": 10,
   "id": "bf2f9e12-935a-44c2-af12-32f81da145af",
   "metadata": {},
   "outputs": [
    {
     "name": "stdout",
     "output_type": "stream",
     "text": [
      "0\n",
      "1\n",
      "1\n",
      "2\n",
      "3\n",
      "5\n",
      "8\n",
      "13\n",
      "21\n",
      "34\n"
     ]
    }
   ],
   "source": [
    "for i in range(10):\n",
    "    print(next(tst))"
   ]
  },
  {
   "cell_type": "code",
   "execution_count": 11,
   "id": "0b0a65f0-e6ca-4699-aabf-53518f954bc5",
   "metadata": {},
   "outputs": [],
   "source": [
    "#Q5\n",
    "def testp():\n",
    "    for i in range(2,1000):\n",
    "        \n",
    "        for j in range(2,i):\n",
    "            if i%j==0:\n",
    "                break\n",
    "        else:   \n",
    "            yield i\n",
    "                "
   ]
  },
  {
   "cell_type": "code",
   "execution_count": 12,
   "id": "8f787d8a-eced-42e0-a830-89e6e9c47a63",
   "metadata": {},
   "outputs": [
    {
     "name": "stdout",
     "output_type": "stream",
     "text": [
      "2\n",
      "3\n",
      "5\n",
      "7\n",
      "11\n",
      "13\n",
      "17\n",
      "19\n",
      "23\n",
      "29\n",
      "31\n",
      "37\n",
      "41\n",
      "43\n",
      "47\n",
      "53\n",
      "59\n",
      "61\n",
      "67\n",
      "71\n"
     ]
    }
   ],
   "source": [
    "tst1=testp()\n",
    "for i in range(20):\n",
    "    print(next(tst1))"
   ]
  },
  {
   "cell_type": "code",
   "execution_count": null,
   "id": "c366bd6b-1ebc-40a8-877c-c391be3acdd1",
   "metadata": {},
   "outputs": [],
   "source": []
  }
 ],
 "metadata": {
  "kernelspec": {
   "display_name": "Python 3 (ipykernel)",
   "language": "python",
   "name": "python3"
  },
  "language_info": {
   "codemirror_mode": {
    "name": "ipython",
    "version": 3
   },
   "file_extension": ".py",
   "mimetype": "text/x-python",
   "name": "python",
   "nbconvert_exporter": "python",
   "pygments_lexer": "ipython3",
   "version": "3.10.8"
  }
 },
 "nbformat": 4,
 "nbformat_minor": 5
}
