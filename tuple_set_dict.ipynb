{
 "cells": [
  {
   "cell_type": "code",
   "execution_count": 1,
   "id": "6d3a8d44-dc42-4b9c-a122-fcb0f9673dbb",
   "metadata": {},
   "outputs": [],
   "source": [
    "#Q1\n",
    "#Tuples are an ordered, immutable collection of elements in Python. This means that once you create a tuple, you cannot change its elements.\n",
    "#The order of the elements in a tuple is important, and it remains the same throughout the life of the tuple."
   ]
  },
  {
   "cell_type": "code",
   "execution_count": 2,
   "id": "a03d7c99-80b7-4a58-b773-bdbd6d273609",
   "metadata": {},
   "outputs": [
    {
     "data": {
      "text/plain": [
       "tuple"
      ]
     },
     "execution_count": 2,
     "metadata": {},
     "output_type": "execute_result"
    }
   ],
   "source": [
    "#Q2\n",
    "#There are only two tuple methods count() and index().\n",
    "#Tuples have only two built-in methods because they are meant to be simple and efficient data structures. \n",
    "#By having fewer methods, the size of the tuple object stays small, making it faster to use in memory-sensitive situations. \n",
    "#On the other hand, lists have more methods because they are meant to be more flexible and capable of handling a wider range of tasks.\n",
    "a=(1,2,3,4,5,2,4,7,98,6,24,746)\n",
    "type(a)"
   ]
  },
  {
   "cell_type": "code",
   "execution_count": 3,
   "id": "24461178-5791-4374-a152-af3dd3d7844c",
   "metadata": {},
   "outputs": [
    {
     "data": {
      "text/plain": [
       "2"
      ]
     },
     "execution_count": 3,
     "metadata": {},
     "output_type": "execute_result"
    }
   ],
   "source": [
    "a.count(4)"
   ]
  },
  {
   "cell_type": "code",
   "execution_count": 4,
   "id": "a3419816-764d-4683-bb1c-7a03819eb68e",
   "metadata": {},
   "outputs": [
    {
     "data": {
      "text/plain": [
       "8"
      ]
     },
     "execution_count": 4,
     "metadata": {},
     "output_type": "execute_result"
    }
   ],
   "source": [
    "a.index(98)"
   ]
  },
  {
   "cell_type": "code",
   "execution_count": 5,
   "id": "97dc47cb-c304-49d2-98f6-fa3fcdd3fa2b",
   "metadata": {},
   "outputs": [
    {
     "data": {
      "text/plain": [
       "{1, 2, 3, 4}"
      ]
     },
     "execution_count": 5,
     "metadata": {},
     "output_type": "execute_result"
    }
   ],
   "source": [
    "#Q3\n",
    "#Sets Sets are a collection that is unordered and unindexed.They are mutable (changeable) but do not allow duplicate values to be held.\n",
    "L1 = [1, 1, 1, 2, 1, 3, 1, 4, 2, 1, 2, 2, 2, 3, 2, 4, 3, 1, 3, 2, 3, 3, 3, 4, 4, 1, 4, 2, 4, 3, 4, 4]\n",
    "set(L1)"
   ]
  },
  {
   "cell_type": "code",
   "execution_count": 6,
   "id": "75bf2ea8-6695-4069-b414-52c56081594d",
   "metadata": {},
   "outputs": [
    {
     "name": "stdout",
     "output_type": "stream",
     "text": [
      "{1, 2, 3, 4, 5, 6, 7, 8, 's', 'a', 'f', 'g', 'd'}\n"
     ]
    }
   ],
   "source": [
    "#Q4\n",
    "#The union() method returns a new set that contains all the elements from both the original set and the set passed as an argument, without changing the original set.\n",
    "#The update() method adds all the elements from the set passed as an argument to the original set, modifying it.\n",
    "#So, the difference between union() and update() is that union() returns a new set while update() modifies the original set.\n",
    "s1={1,2,3,4,5}\n",
    "s2={4,5,6,7,8}\n",
    "s3={\"a\",\"s\",\"d\",\"f\",\"g\"}\n",
    "ns=s1.union(s2,s3)\n",
    "print(ns)"
   ]
  },
  {
   "cell_type": "code",
   "execution_count": 7,
   "id": "49fca52c-842e-4f04-b652-0ac96e660f96",
   "metadata": {},
   "outputs": [
    {
     "data": {
      "text/plain": [
       "{'name': 'John Doe', 'age': 30}"
      ]
     },
     "execution_count": 7,
     "metadata": {},
     "output_type": "execute_result"
    }
   ],
   "source": [
    "#Q5\n",
    "#A dictionary is a data structure in computer programming that stores values in key-value pairs, where each key is unique. \n",
    "#An example in Python: \n",
    "my_dict = {\"name\": \"John Doe\", \"age\": 30}\n",
    "my_dict\n",
    "#Dictionaries in Python are unordered."
   ]
  },
  {
   "cell_type": "code",
   "execution_count": 8,
   "id": "50b493a9-48f8-4027-98d9-bee7c8c19db6",
   "metadata": {},
   "outputs": [
    {
     "data": {
      "text/plain": [
       "{'first_level_key': {'second_level_key': 'value'}}"
      ]
     },
     "execution_count": 8,
     "metadata": {},
     "output_type": "execute_result"
    }
   ],
   "source": [
    "#Q6\n",
    "#Yes, you can create a nested dictionary in Python. Here's an example:\n",
    "dict1={'first_level_key': {'second_level_key': 'value'}}\n",
    "dict1"
   ]
  },
  {
   "cell_type": "code",
   "execution_count": 9,
   "id": "a5404372-28b6-44e8-b881-0307f411ccdc",
   "metadata": {},
   "outputs": [
    {
     "data": {
      "text/plain": [
       "{'Name': 'Gaurav Vetal', 'RollNo:': 1}"
      ]
     },
     "execution_count": 9,
     "metadata": {},
     "output_type": "execute_result"
    }
   ],
   "source": [
    "#Q7\n",
    "dict2={'Name':'Gaurav Vetal','RollNo:':1}\n",
    "dict2"
   ]
  },
  {
   "cell_type": "code",
   "execution_count": 10,
   "id": "b1f1b5e9-160f-406b-add3-f49042d77cd8",
   "metadata": {},
   "outputs": [],
   "source": [
    "new_dict=dict2.setdefault('Topic',['Python', 'Machine Learning','Deep Learning'])"
   ]
  },
  {
   "cell_type": "code",
   "execution_count": 11,
   "id": "92b0313c-e86b-42bc-8742-cdd64a858c48",
   "metadata": {},
   "outputs": [
    {
     "data": {
      "text/plain": [
       "['Python', 'Machine Learning', 'Deep Learning']"
      ]
     },
     "execution_count": 11,
     "metadata": {},
     "output_type": "execute_result"
    }
   ],
   "source": [
    "new_dict"
   ]
  },
  {
   "cell_type": "code",
   "execution_count": 12,
   "id": "e05a150c-f484-484e-83cb-c543fa8f186f",
   "metadata": {},
   "outputs": [
    {
     "data": {
      "text/plain": [
       "{'Name': 'Gaurav Vetal',\n",
       " 'RollNo:': 1,\n",
       " 'Topic': ['Python', 'Machine Learning', 'Deep Learning']}"
      ]
     },
     "execution_count": 12,
     "metadata": {},
     "output_type": "execute_result"
    }
   ],
   "source": [
    "dict2"
   ]
  },
  {
   "cell_type": "code",
   "execution_count": 13,
   "id": "01ce30b9-1eeb-41df-81ee-6d7b9d6c9be4",
   "metadata": {},
   "outputs": [
    {
     "data": {
      "text/plain": [
       "dict_keys(['Name', 'RollNo:', 'Topic'])"
      ]
     },
     "execution_count": 13,
     "metadata": {},
     "output_type": "execute_result"
    }
   ],
   "source": [
    "#Q8\n",
    "#The main view objects of dictionary in python are keys, values and items.\n",
    "dict2.keys()\n"
   ]
  },
  {
   "cell_type": "code",
   "execution_count": 14,
   "id": "b66b3b98-94f8-4905-9548-9b6d14b6f1ec",
   "metadata": {},
   "outputs": [
    {
     "data": {
      "text/plain": [
       "dict_values(['Gaurav Vetal', 1, ['Python', 'Machine Learning', 'Deep Learning']])"
      ]
     },
     "execution_count": 14,
     "metadata": {},
     "output_type": "execute_result"
    }
   ],
   "source": [
    "dict2.values()"
   ]
  },
  {
   "cell_type": "code",
   "execution_count": 15,
   "id": "1a0af1d7-6623-425a-8183-e0664178c585",
   "metadata": {},
   "outputs": [
    {
     "data": {
      "text/plain": [
       "dict_items([('Name', 'Gaurav Vetal'), ('RollNo:', 1), ('Topic', ['Python', 'Machine Learning', 'Deep Learning'])])"
      ]
     },
     "execution_count": 15,
     "metadata": {},
     "output_type": "execute_result"
    }
   ],
   "source": [
    "dict2.items()"
   ]
  },
  {
   "cell_type": "code",
   "execution_count": null,
   "id": "248e10ab-e0bf-464c-a2e6-d679b90e6d45",
   "metadata": {},
   "outputs": [],
   "source": []
  }
 ],
 "metadata": {
  "kernelspec": {
   "display_name": "Python 3 (ipykernel)",
   "language": "python",
   "name": "python3"
  },
  "language_info": {
   "codemirror_mode": {
    "name": "ipython",
    "version": 3
   },
   "file_extension": ".py",
   "mimetype": "text/x-python",
   "name": "python",
   "nbconvert_exporter": "python",
   "pygments_lexer": "ipython3",
   "version": "3.10.8"
  }
 },
 "nbformat": 4,
 "nbformat_minor": 5
}
