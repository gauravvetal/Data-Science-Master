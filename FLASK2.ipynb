{
 "cells": [
  {
   "cell_type": "code",
   "execution_count": 1,
   "id": "6e4c254d-80de-4c8a-86f7-ff65fad127fa",
   "metadata": {},
   "outputs": [
    {
     "data": {
      "text/plain": [
       "'\\nGET is an HTTP method used to retrieve data from a server by sending a request, \\nand POST is another HTTP method used to submit data to a server for processing, \\ntypically done by sending the data in the request body.\\n'"
      ]
     },
     "execution_count": 1,
     "metadata": {},
     "output_type": "execute_result"
    }
   ],
   "source": [
    "#Q1. Explain GET and POST methods.\n",
    "'''\n",
    "GET is an HTTP method used to retrieve data from a server by sending a request, \n",
    "and POST is another HTTP method used to submit data to a server for processing, \n",
    "typically done by sending the data in the request body.\n",
    "'''"
   ]
  },
  {
   "cell_type": "code",
   "execution_count": 2,
   "id": "58453b2b-a91e-485b-8d34-033204ecadb2",
   "metadata": {},
   "outputs": [
    {
     "data": {
      "text/plain": [
       "'\\nIn Flask, the request is used to handle incoming client data from HTTP requests, \\nallowing developers to extract and process user input to build interactive web applications.\\n'"
      ]
     },
     "execution_count": 2,
     "metadata": {},
     "output_type": "execute_result"
    }
   ],
   "source": [
    "#Q2. Why is request used in Flask?\n",
    "'''\n",
    "In Flask, the request is used to handle incoming client data from HTTP requests, \n",
    "allowing developers to extract and process user input to build interactive web applications.\n",
    "'''"
   ]
  },
  {
   "cell_type": "code",
   "execution_count": 3,
   "id": "edb3b82c-2d18-43fb-a09b-719a126d38e9",
   "metadata": {},
   "outputs": [],
   "source": [
    "#Q3. Why is redirect() used in Flask?\n",
    "#In Flask, `redirect()` is used to send users to a different URL, allowing for easy management of page navigation and user experience."
   ]
  },
  {
   "cell_type": "code",
   "execution_count": 4,
   "id": "6f4b7ac6-6d99-4981-9268-48d02a83b4e7",
   "metadata": {},
   "outputs": [
    {
     "data": {
      "text/plain": [
       "\"\\nIn Flask, templates are files used to separate the presentation layer (HTML) from the application logic (Python code). \\nTemplates enable developers to create dynamic web pages by embedding data from the application into HTML files, making it easier to generate dynamic content to be sent to the user's web browser.\\nThe render_template() function in Flask is used to render these templates. \\nIt takes the name of the template file as an argument and processes it, replacing placeholders and variables with actual data.\\n\""
      ]
     },
     "execution_count": 4,
     "metadata": {},
     "output_type": "execute_result"
    }
   ],
   "source": [
    "#Q4. What are templates in Flask? Why is the render_template() function used?\n",
    "'''\n",
    "In Flask, templates are files used to separate the presentation layer (HTML) from the application logic (Python code). \n",
    "Templates enable developers to create dynamic web pages by embedding data from the application into HTML files, making it easier to generate dynamic content to be sent to the user's web browser.\n",
    "The render_template() function in Flask is used to render these templates. \n",
    "It takes the name of the template file as an argument and processes it, replacing placeholders and variables with actual data.\n",
    "'''"
   ]
  },
  {
   "cell_type": "code",
   "execution_count": null,
   "id": "e84857f0-ea38-4318-9338-69955c3f93f1",
   "metadata": {},
   "outputs": [],
   "source": [
    "#Q5. Create a simple API. Use Postman to test it. Attach the screenshot of the output in the Jupyter Notebook.\n",
    "from flask import Flask , jsonify\n",
    "\n",
    "app = Flask(__name__)\n",
    "\n",
    "\n",
    "data= [\n",
    "    {\"id\": 1, \"name\": \"Alice\", \"age\": 25},\n",
    "    {\"id\": 2, \"name\": \"Bob\", \"age\": 30},\n",
    "    {\"id\": 3, \"name\": \"Charlie\", \"age\": 27}\n",
    "]\n",
    "\n",
    "@app.route('/api', methods=['GET'])\n",
    "def get_users():\n",
    "    return jsonify(data)\n",
    "\n",
    "if __name__==\"__main__\":\n",
    "    app.run(host=\"0.0.0.0\")\n"
   ]
  },
  {
   "cell_type": "code",
   "execution_count": null,
   "id": "8a859545-bc8b-4cc2-99f0-530af81deb13",
   "metadata": {},
   "outputs": [],
   "source": []
  }
 ],
 "metadata": {
  "kernelspec": {
   "display_name": "Python 3 (ipykernel)",
   "language": "python",
   "name": "python3"
  },
  "language_info": {
   "codemirror_mode": {
    "name": "ipython",
    "version": 3
   },
   "file_extension": ".py",
   "mimetype": "text/x-python",
   "name": "python",
   "nbconvert_exporter": "python",
   "pygments_lexer": "ipython3",
   "version": "3.10.8"
  }
 },
 "nbformat": 4,
 "nbformat_minor": 5
}
