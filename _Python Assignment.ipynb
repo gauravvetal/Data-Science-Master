{
 "cells": [
  {
   "cell_type": "code",
   "execution_count": 18,
   "id": "319fd775-7b1d-481b-817a-a7370d43fca4",
   "metadata": {},
   "outputs": [],
   "source": [
    "#Q1\n",
    "def sort_tuple(tl):\n",
    "    return(sorted(tl,key=lambda x:x[1],reverse=True))"
   ]
  },
  {
   "cell_type": "code",
   "execution_count": 19,
   "id": "8e42fffd-e0fd-44c4-a78f-ad15cad84dd1",
   "metadata": {},
   "outputs": [
    {
     "name": "stdout",
     "output_type": "stream",
     "text": [
      "[('Sachin Tendulkar', 34357), ('Ricky Ponting', 27483), ('Jack Kallis', 25534), ('Virat Kohli', 24936)]\n"
     ]
    }
   ],
   "source": [
    "tl=[('Sachin Tendulkar', 34357), ('Ricky Ponting', 27483), ('Virat Kohli', 24936), ('Jack Kallis', 25534)]\n",
    "print(sort_tuple(tl))"
   ]
  },
  {
   "cell_type": "code",
   "execution_count": 33,
   "id": "03f59fcc-9ea6-4fa6-9669-0d46a3b1ab59",
   "metadata": {},
   "outputs": [
    {
     "data": {
      "text/plain": [
       "[1, 4, 9, 16, 25, 36, 49, 64, 81, 100]"
      ]
     },
     "execution_count": 33,
     "metadata": {},
     "output_type": "execute_result"
    }
   ],
   "source": [
    "#Q2\n",
    "l1=[1, 2, 3, 4, 5, 6, 7, 8, 9, 10]\n",
    "l1=map(lambda x:x**2,l1)\n",
    "list(l1)"
   ]
  },
  {
   "cell_type": "code",
   "execution_count": 35,
   "id": "e84dff00-a5ae-4438-acb7-c82b4c060e48",
   "metadata": {},
   "outputs": [
    {
     "data": {
      "text/plain": [
       "('1', '2', '3', '4', '5', '6', '7', '8', '9', '10')"
      ]
     },
     "execution_count": 35,
     "metadata": {},
     "output_type": "execute_result"
    }
   ],
   "source": [
    "#Q3\n",
    "l2=[1, 2, 3, 4, 5, 6, 7, 8, 9, 10]\n",
    "l2=map(lambda x:str(x),l2)\n",
    "tuple(l2)"
   ]
  },
  {
   "cell_type": "code",
   "execution_count": 44,
   "id": "e83b93da-c219-489c-bf44-021a55261d51",
   "metadata": {},
   "outputs": [
    {
     "name": "stdout",
     "output_type": "stream",
     "text": [
      "The product of numbers from 1 to 25 is: 15511210043330985984000000\n"
     ]
    }
   ],
   "source": [
    "#Q4\n",
    "from functools import reduce\n",
    "num = list(range(1, 26))\n",
    "prod=reduce(lambda x,y:x*y, num)\n",
    "print(\"The product of numbers from 1 to 25 is:\", prod)"
   ]
  },
  {
   "cell_type": "code",
   "execution_count": 47,
   "id": "48a78755-c7d5-46f8-9d74-5ff812aac8f3",
   "metadata": {},
   "outputs": [
    {
     "data": {
      "text/plain": [
       "[2, 6, 60, 90, 120, 46]"
      ]
     },
     "execution_count": 47,
     "metadata": {},
     "output_type": "execute_result"
    }
   ],
   "source": [
    "#Q5\n",
    "l3=[2, 3, 6, 9, 27, 60, 90, 120, 55, 46]\n",
    "filt=filter(lambda x:x%2==0 & x%3==0,l3)\n",
    "list(filt)"
   ]
  },
  {
   "cell_type": "code",
   "execution_count": 62,
   "id": "8a47ab26-dccf-4630-b60e-6d8c168e8ff2",
   "metadata": {},
   "outputs": [
    {
     "data": {
      "text/plain": [
       "['php', 'aba', 'radar', 'level']"
      ]
     },
     "execution_count": 62,
     "metadata": {},
     "output_type": "execute_result"
    }
   ],
   "source": [
    "#Q6\n",
    "l4=['python', 'php', 'aba', 'radar', 'level']\n",
    "l5=list(filter(lambda x: (x==\"\".join(reversed(x))),l4))\n",
    "l5"
   ]
  },
  {
   "cell_type": "code",
   "execution_count": null,
   "id": "f96664cd-281b-463c-a01e-54ce84f93fac",
   "metadata": {},
   "outputs": [],
   "source": []
  }
 ],
 "metadata": {
  "kernelspec": {
   "display_name": "Python 3 (ipykernel)",
   "language": "python",
   "name": "python3"
  },
  "language_info": {
   "codemirror_mode": {
    "name": "ipython",
    "version": 3
   },
   "file_extension": ".py",
   "mimetype": "text/x-python",
   "name": "python",
   "nbconvert_exporter": "python",
   "pygments_lexer": "ipython3",
   "version": "3.10.8"
  }
 },
 "nbformat": 4,
 "nbformat_minor": 5
}
