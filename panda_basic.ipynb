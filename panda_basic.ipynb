{
 "cells": [
  {
   "cell_type": "code",
   "execution_count": 1,
   "id": "cf23101f-ba5a-4cf2-97c2-3d3dce0bfd69",
   "metadata": {},
   "outputs": [],
   "source": [
    "#Q1. Create a Pandas Series that contains the following data: 4, 8, 15, 16, 23, and 42. Then, print the series.\n",
    "import pandas as pd"
   ]
  },
  {
   "cell_type": "code",
   "execution_count": 8,
   "id": "d1001daa-acec-4b4c-acea-106b4ea7f746",
   "metadata": {},
   "outputs": [],
   "source": [
    "data=[4, 8, 15, 16, 23, 42]"
   ]
  },
  {
   "cell_type": "code",
   "execution_count": 13,
   "id": "37f5dc02-769c-49be-8ffe-6e6fbbb5b02a",
   "metadata": {},
   "outputs": [],
   "source": [
    "df=pd.Series(data)"
   ]
  },
  {
   "cell_type": "code",
   "execution_count": 14,
   "id": "7ff430ac-abd0-4aee-ac21-c673fbe3adaa",
   "metadata": {},
   "outputs": [
    {
     "data": {
      "text/plain": [
       "0     4\n",
       "1     8\n",
       "2    15\n",
       "3    16\n",
       "4    23\n",
       "5    42\n",
       "dtype: int64"
      ]
     },
     "execution_count": 14,
     "metadata": {},
     "output_type": "execute_result"
    }
   ],
   "source": [
    "df"
   ]
  },
  {
   "cell_type": "code",
   "execution_count": 15,
   "id": "fcd48b22-69e6-4407-bbd2-337b7bddd28c",
   "metadata": {},
   "outputs": [
    {
     "data": {
      "text/plain": [
       "pandas.core.series.Series"
      ]
     },
     "execution_count": 15,
     "metadata": {},
     "output_type": "execute_result"
    }
   ],
   "source": [
    "type(df)"
   ]
  },
  {
   "cell_type": "code",
   "execution_count": 20,
   "id": "8dbd8de7-3c94-4642-94f1-4d90d485c598",
   "metadata": {},
   "outputs": [],
   "source": [
    "#Q2. Create a variable of list type containing 10 elements in it, and apply pandas.Series function on the variable print it.\n",
    "a=1\n",
    "ad=2\n",
    "av=3\n",
    "af=5\n",
    "data1=[a,ad,av,af]\n",
    "df1=pd.Series(data1)\n"
   ]
  },
  {
   "cell_type": "code",
   "execution_count": 21,
   "id": "145ddd78-9f86-43bb-b768-5bdab1f3c75e",
   "metadata": {},
   "outputs": [
    {
     "data": {
      "text/plain": [
       "0    1\n",
       "1    2\n",
       "2    3\n",
       "3    5\n",
       "dtype: int64"
      ]
     },
     "execution_count": 21,
     "metadata": {},
     "output_type": "execute_result"
    }
   ],
   "source": [
    "df1"
   ]
  },
  {
   "cell_type": "code",
   "execution_count": 24,
   "id": "31ae2da2-9715-471d-af37-f4a369895947",
   "metadata": {},
   "outputs": [],
   "source": [
    "#Q3. Create a Pandas DataFrame that contains the following data: Then, print the DataFrame.\n",
    "data2={\n",
    "'Name':['Alice','Bob','Claire'],\n",
    "    'Age':[2,30,27],\n",
    "    'Gender':['Female','Male','Female']\n",
    "}"
   ]
  },
  {
   "cell_type": "code",
   "execution_count": 26,
   "id": "d5b53721-6513-4a77-a982-1acebcaaa25d",
   "metadata": {},
   "outputs": [],
   "source": [
    "df2=pd.DataFrame(data2)"
   ]
  },
  {
   "cell_type": "code",
   "execution_count": 27,
   "id": "fa9e128f-16ca-4162-b63f-1977d307a08f",
   "metadata": {},
   "outputs": [
    {
     "data": {
      "text/html": [
       "<div>\n",
       "<style scoped>\n",
       "    .dataframe tbody tr th:only-of-type {\n",
       "        vertical-align: middle;\n",
       "    }\n",
       "\n",
       "    .dataframe tbody tr th {\n",
       "        vertical-align: top;\n",
       "    }\n",
       "\n",
       "    .dataframe thead th {\n",
       "        text-align: right;\n",
       "    }\n",
       "</style>\n",
       "<table border=\"1\" class=\"dataframe\">\n",
       "  <thead>\n",
       "    <tr style=\"text-align: right;\">\n",
       "      <th></th>\n",
       "      <th>Name</th>\n",
       "      <th>Age</th>\n",
       "      <th>Gender</th>\n",
       "    </tr>\n",
       "  </thead>\n",
       "  <tbody>\n",
       "    <tr>\n",
       "      <th>0</th>\n",
       "      <td>Alice</td>\n",
       "      <td>2</td>\n",
       "      <td>Female</td>\n",
       "    </tr>\n",
       "    <tr>\n",
       "      <th>1</th>\n",
       "      <td>Bob</td>\n",
       "      <td>30</td>\n",
       "      <td>Male</td>\n",
       "    </tr>\n",
       "    <tr>\n",
       "      <th>2</th>\n",
       "      <td>Claire</td>\n",
       "      <td>27</td>\n",
       "      <td>Female</td>\n",
       "    </tr>\n",
       "  </tbody>\n",
       "</table>\n",
       "</div>"
      ],
      "text/plain": [
       "     Name  Age  Gender\n",
       "0   Alice    2  Female\n",
       "1     Bob   30    Male\n",
       "2  Claire   27  Female"
      ]
     },
     "execution_count": 27,
     "metadata": {},
     "output_type": "execute_result"
    }
   ],
   "source": [
    "df2"
   ]
  },
  {
   "cell_type": "code",
   "execution_count": 28,
   "id": "ebc0c67b-aeb9-4148-baca-6d18a2c74463",
   "metadata": {},
   "outputs": [],
   "source": [
    "#Q4. What is ‘DataFrame’ in pandas and how is it different from pandas.series? Explain with an example.\n",
    "\n",
    "'''\n",
    "In Pandas, a DataFrame is like a 2D table, great for structured data with rows and columns. \n",
    "It's flexible, allowing different data types in each column. \n",
    "A Series, on the other hand, is like a single column or row from a DataFrame. \n",
    "It's best for one-dimensional data, such as a list of values of the same type. \n",
    "So, DataFrames handle multi-dimensional data, while Series are for one-dimensional data.\n",
    "Examples are give in Question 2 and 3.\n",
    "'''"
   ]
  },
  {
   "cell_type": "code",
   "execution_count": 29,
   "id": "60cd3108-ce23-46eb-9a64-9a89ad7ba1d9",
   "metadata": {},
   "outputs": [
    {
     "data": {
      "text/plain": [
       "\"\\nCertainly, here's a concise version:\\n\\n1. Filtering: Select specific rows based on conditions, useful for extracting relevant data.\\n\\n2. Sorting: Arrange data by columns to understand trends or patterns better.\\n\\n3. Grouping and Aggregation: Summarize data by grouping and applying functions, ideal for getting insights from categorical data.\\n\\n4. Joining and Merging: Combine data from different sources using common keys for more comprehensive analysis.\\n\\n5. Pivoting: Reshape data for better presentation or summarization.\\n\\n6. Handling Missing Data: Manage missing values by either removing or filling them.\\n\\n7. Creating New Columns: Add calculated columns to your DataFrame.\\n\\n8. Applying Functions: Transform data in specific columns using custom or built-in functions.\\n\""
      ]
     },
     "execution_count": 29,
     "metadata": {},
     "output_type": "execute_result"
    }
   ],
   "source": [
    "#Q5. What are some common functions you can use to manipulate data in a Pandas DataFrame? Can you give an example of when you might use one of these functions?\n",
    "'''\n",
    "Certainly, here's a concise version:\n",
    "\n",
    "1. Filtering: Select specific rows based on conditions, useful for extracting relevant data.\n",
    "\n",
    "2. Sorting: Arrange data by columns to understand trends or patterns better.\n",
    "\n",
    "3. Grouping and Aggregation: Summarize data by grouping and applying functions, ideal for getting insights from categorical data.\n",
    "\n",
    "4. Joining and Merging: Combine data from different sources using common keys for more comprehensive analysis.\n",
    "\n",
    "5. Pivoting: Reshape data for better presentation or summarization.\n",
    "\n",
    "6. Handling Missing Data: Manage missing values by either removing or filling them.\n",
    "\n",
    "7. Creating New Columns: Add calculated columns to your DataFrame.\n",
    "\n",
    "8. Applying Functions: Transform data in specific columns using custom or built-in functions.\n",
    "'''\n"
   ]
  },
  {
   "cell_type": "code",
   "execution_count": null,
   "id": "00ffd52b-75d8-4d3e-a181-98b744766232",
   "metadata": {},
   "outputs": [],
   "source": [
    "name=pd.Series(['ram','shyam','sita','siya'])\n",
    "roll=pd.Series([12,13,14,15])\n",
    "city=pd.Series(['pune','goa','mumbai',])"
   ]
  }
 ],
 "metadata": {
  "kernelspec": {
   "display_name": "Python 3 (ipykernel)",
   "language": "python",
   "name": "python3"
  },
  "language_info": {
   "codemirror_mode": {
    "name": "ipython",
    "version": 3
   },
   "file_extension": ".py",
   "mimetype": "text/x-python",
   "name": "python",
   "nbconvert_exporter": "python",
   "pygments_lexer": "ipython3",
   "version": "3.10.8"
  }
 },
 "nbformat": 4,
 "nbformat_minor": 5
}
