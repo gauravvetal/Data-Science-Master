{
 "cells": [
  {
   "cell_type": "code",
   "execution_count": null,
   "id": "fe374107-9975-4979-85dc-0ac6db1cd694",
   "metadata": {},
   "outputs": [],
   "source": [
    "#Q1. How can you create a Bokeh plot using Python code?\n",
    "'''\n",
    "To create a Bokeh plot in Python, follow these steps:\n",
    "\n",
    "1. Install Bokeh: `pip install bokeh`\n",
    "2. Import the required modules.\n",
    "3. Prepare your data in lists or arrays.\n",
    "4. Create a Bokeh figure with title and axis labels.\n",
    "5. Add data to the plot using glyphs (e.g., `circle` for a scatter plot).\n",
    "6. Display the plot in Jupyter Notebook with `show(p)` or save it as an HTML file using `output_file` and `show(p)`.\n",
    "'''"
   ]
  },
  {
   "cell_type": "code",
   "execution_count": 10,
   "id": "4b817354-9770-4e60-93ce-fddb3676422f",
   "metadata": {},
   "outputs": [],
   "source": [
    "#Q2. What are glyphs in Bokeh, and how can you add them to a Bokeh plot? Explain with an example.\n",
    "'''\n",
    "Glyphs in Bokeh are visual shapes, such as circles, lines, and squares, that represent data points on a plot. You can add glyphs to a Bokeh plot using specific glyph functions like circle, line, or square.\n",
    "\n",
    "Example of adding a circle glyph to a Bokeh plot:\n",
    "'''\n",
    "from bokeh.plotting import figure, output_file, show\n",
    "\n",
    "x = [1, 2, 3, 4, 5]\n",
    "y = [6, 7, 2, 4, 5]\n",
    "p = figure(title=\"Scatter Plot\", x_axis_label='X', y_axis_label='Y')\n",
    "p.circle(x, y, size=10, color=\"blue\", alpha=0.5)\n",
    "output_file(\"scatter_plot.html\")\n",
    "show(p)\n"
   ]
  },
  {
   "cell_type": "code",
   "execution_count": 7,
   "id": "3892ea45-3760-487b-8881-f093463f65ce",
   "metadata": {},
   "outputs": [],
   "source": [
    "#Q3. How can you customize the appearance of a Bokeh plot, including the axes, title, and legend?\n",
    "'''\n",
    "To customize a Bokeh plot:\n",
    "\n",
    "1. Set the plot title, axis labels, and legend.\n",
    "2. Modify axis properties with 'p.xaxis' and 'p.yaxis'.\n",
    "3. Customize gridlines and ticks with 'p.grid'.\n",
    "4. Customize the legend using 'p.legend'.\n",
    "'''\n"
   ]
  },
  {
   "cell_type": "code",
   "execution_count": 8,
   "id": "63b9a20b-7fa1-4fe6-9ff9-0a191a9de049",
   "metadata": {},
   "outputs": [],
   "source": [
    "#Q4. What is a Bokeh server, and how can you use it to create interactive plots that can be updated in real time?\n",
    "'''\n",
    "A Bokeh server allows you to create interactive, real-time plots and dashboards. Here's a simplified overview:\n",
    "\n",
    "1. Import Bokeh modules and define a function to update the plot.\n",
    "2. Create a layout with plots and widgets.\n",
    "3. Attach callbacks to widgets to update the plot.\n",
    "4. Run the Bokeh server with 'bokeh serve your_script.py'.\n",
    "5. Access the application through a web browser to interact with the plot in real time.\n",
    "'''"
   ]
  },
  {
   "cell_type": "code",
   "execution_count": null,
   "id": "3818f8a4-0416-49ea-b541-698bb231f6ea",
   "metadata": {},
   "outputs": [],
   "source": [
    "#Q5. How can you embed a Bokeh plot into a web page or dashboard using Flask or Django?\n"
   ]
  }
 ],
 "metadata": {
  "kernelspec": {
   "display_name": "Python 3 (ipykernel)",
   "language": "python",
   "name": "python3"
  },
  "language_info": {
   "codemirror_mode": {
    "name": "ipython",
    "version": 3
   },
   "file_extension": ".py",
   "mimetype": "text/x-python",
   "name": "python",
   "nbconvert_exporter": "python",
   "pygments_lexer": "ipython3",
   "version": "3.10.8"
  }
 },
 "nbformat": 4,
 "nbformat_minor": 5
}
