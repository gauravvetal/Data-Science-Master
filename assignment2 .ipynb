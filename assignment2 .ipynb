{
 "cells": [
  {
   "cell_type": "raw",
   "id": "35034ef1-20d6-4fc5-b386-a9c7690b72c2",
   "metadata": {},
   "source": [
    "#Assignment No. 2"
   ]
  },
  {
   "cell_type": "code",
   "execution_count": 1,
   "id": "e661016d-9d2a-4d5d-83d3-54b81c610c33",
   "metadata": {},
   "outputs": [
    {
     "name": "stdin",
     "output_type": "stream",
     "text": [
      "Enter the Percentage 24\n"
     ]
    },
    {
     "name": "stdout",
     "output_type": "stream",
     "text": [
      "Grade D\n"
     ]
    }
   ],
   "source": [
    "#Question No.1\n",
    "p=int(input(\"Enter the Percentage\"))\n",
    "if p>100:\n",
    "    print(\"Invalid Data\")\n",
    "elif 90<p<=100:\n",
    "    print(\"Grade A\")\n",
    "elif 80<p<=90:\n",
    "    print(\"Grade B\")\n",
    "elif 60<=p<=80:\n",
    "    print(\"Grade C\")\n",
    "else:\n",
    "    print(\"Grade D\")"
   ]
  },
  {
   "cell_type": "code",
   "execution_count": 2,
   "id": "86e522e5-7c4a-49ac-bf66-869314ce7f45",
   "metadata": {},
   "outputs": [
    {
     "name": "stdin",
     "output_type": "stream",
     "text": [
      "Enter the Cost Price of the bike : Rs. 2434\n"
     ]
    },
    {
     "name": "stdout",
     "output_type": "stream",
     "text": [
      "Tax Rate : 5% \n",
      "Tax to be paid : Rs. 121.7\n"
     ]
    }
   ],
   "source": [
    "#Question No.2\n",
    "cp=int(input(\"Enter the Cost Price of the bike : Rs.\"))\n",
    "if cp>100000:\n",
    "    print(\"Tax Rate : 15% \\n\"\"Tax to be paid : Rs.\",cp*0.15)\n",
    "elif 1000000>=cp>50000:\n",
    "    print(\"Tax Rate : 10% \\n\"\"Tax to be paid : Rs.\",cp*0.10)\n",
    "elif cp<50000:\n",
    "    print(\"Tax Rate : 5% \\n\"\"Tax to be paid : Rs.\",cp*0.05)"
   ]
  },
  {
   "cell_type": "code",
   "execution_count": 4,
   "id": "6c0d0b4c-a123-4f49-b14f-bdd15892c6e0",
   "metadata": {},
   "outputs": [
    {
     "name": "stdout",
     "output_type": "stream",
     "text": [
      "Name of the Cities: \n",
      " 1. Delhi \n",
      " 2. Agra \n",
      " 3. Jaipur\n"
     ]
    },
    {
     "name": "stdin",
     "output_type": "stream",
     "text": [
      "Enter you choice : 1\n"
     ]
    },
    {
     "name": "stdout",
     "output_type": "stream",
     "text": [
      "Red Fort a monument in Delhi\n"
     ]
    }
   ],
   "source": [
    "#Question No.3\n",
    "print(\"Name of the Cities: \\n 1. Delhi \\n 2. Agra \\n 3. Jaipur\")\n",
    "ch=int(input(\"Enter you choice :\"))\n",
    "if ch == 1:\n",
    "    print(\"Red Fort a monument in Delhi\")\n",
    "elif ch == 2:\n",
    "    print(\"Taj Mahal a monument in Agra\")\n",
    "elif ch == 3:\n",
    "    print(\"Jal Mahal a monument in Jaipur\")\n",
    "else:\n",
    "    print(\"Sorry, I don't have information about the monument in that city.\")    "
   ]
  },
  {
   "cell_type": "code",
   "execution_count": 9,
   "id": "41f61408-5cfd-4af6-95db-4c7f4774fb38",
   "metadata": {},
   "outputs": [
    {
     "name": "stdin",
     "output_type": "stream",
     "text": [
      "Enter the no.  10\n"
     ]
    },
    {
     "name": "stdout",
     "output_type": "stream",
     "text": [
      "The number of times the number was divisible by 3 before it was less than or equal to 10: 0\n"
     ]
    }
   ],
   "source": [
    "#Question 4\n",
    "n=int(input(\"Enter the no. \"))\n",
    "count=0\n",
    "while n>10:\n",
    "    if n%3==0:\n",
    "        count+=1\n",
    "    n-=1    \n",
    "print(\"The number of times the number was divisible by 3 before it was less than or equal to 10:\",count)    "
   ]
  },
  {
   "cell_type": "code",
   "execution_count": 10,
   "id": "01af5c1a-968e-436a-a932-1d84784a39b4",
   "metadata": {},
   "outputs": [
    {
     "name": "stdout",
     "output_type": "stream",
     "text": [
      "The value of counter is 1\n",
      "The value of counter is 2\n",
      "The value of counter is 3\n",
      "The value of counter is 4\n",
      "The value of counter is 5\n",
      "The loop is finished.\n"
     ]
    }
   ],
   "source": [
    "#Question 5\n",
    "#A while loop in Python is used to repeatedly execute a block of code as long as a given condition is true.\n",
    "#This is useful when you don't know ahead of time how many times you need to repeat a certain task, and you want to stop only when a certain condition is met.\n",
    "#Here's an example:-\n",
    "counter = 1\n",
    "\n",
    "while counter <= 5:\n",
    "    print(\"The value of counter is\", counter)\n",
    "    counter += 1\n",
    "\n",
    "print(\"The loop is finished.\")\n"
   ]
  },
  {
   "cell_type": "code",
   "execution_count": 4,
   "id": "e1229f84-b287-44b6-93f1-6a9f7b83cb30",
   "metadata": {},
   "outputs": [
    {
     "name": "stdin",
     "output_type": "stream",
     "text": [
      "Enter the no. of rows : 3\n"
     ]
    },
    {
     "name": "stdout",
     "output_type": "stream",
     "text": [
      "* \n",
      "* * \n",
      "* * * \n",
      "\n",
      "\n",
      "* * * \n",
      "* * \n",
      "* \n",
      "\n",
      "\n",
      "  * \n",
      " * * * \n",
      "* * * * * \n"
     ]
    }
   ],
   "source": [
    "#Question 6\n",
    "r=int(input(\"Enter the no. of rows :\"))\n",
    "i=1\n",
    "while i<=r:\n",
    "    j=1\n",
    "    while j<=i:\n",
    "        print(\"*\",end=\" \")\n",
    "        j+=1\n",
    "    print()    \n",
    "    i+=1\n",
    "    \n",
    "print(\"\\n\")\n",
    "\n",
    "k=r\n",
    "while k>=1:\n",
    "    l=k\n",
    "    while l>=1:\n",
    "        print(\"*\",end=\" \")\n",
    "        l-=1\n",
    "    print()    \n",
    "    k-=1    \n",
    "\n",
    "print(\"\\n\")\n",
    "\n",
    "e=1\n",
    "while e<=r:\n",
    "    f=r - e\n",
    "    while f>0:\n",
    "        print(\" \",end=\"\")\n",
    "        f-=1\n",
    "    g=2*e-1\n",
    "    while g>0:\n",
    "        print(\"*\",end=\" \")\n",
    "        g-=1\n",
    "    print(\"\")    \n",
    "    e+=1"
   ]
  },
  {
   "cell_type": "code",
   "execution_count": 4,
   "id": "837a8ab2-f3be-485b-aa16-84d8ad5ec8a4",
   "metadata": {},
   "outputs": [
    {
     "name": "stdout",
     "output_type": "stream",
     "text": [
      "10\n",
      "9\n",
      "8\n",
      "7\n",
      "6\n",
      "5\n",
      "4\n",
      "3\n",
      "2\n",
      "1\n"
     ]
    }
   ],
   "source": [
    "#Question 5\n",
    "o=10\n",
    "while o>=1:\n",
    "    print(o)\n",
    "    o-=1"
   ]
  },
  {
   "cell_type": "code",
   "execution_count": null,
   "id": "65fa789a-0f3e-402e-9a2c-1522f8e90d10",
   "metadata": {},
   "outputs": [],
   "source": []
  }
 ],
 "metadata": {
  "kernelspec": {
   "display_name": "Python 3 (ipykernel)",
   "language": "python",
   "name": "python3"
  },
  "language_info": {
   "codemirror_mode": {
    "name": "ipython",
    "version": 3
   },
   "file_extension": ".py",
   "mimetype": "text/x-python",
   "name": "python",
   "nbconvert_exporter": "python",
   "pygments_lexer": "ipython3",
   "version": "3.10.8"
  }
 },
 "nbformat": 4,
 "nbformat_minor": 5
}
