{
 "cells": [
  {
   "cell_type": "code",
   "execution_count": null,
   "id": "7818bc71-98af-4bf0-a56a-d4165fcda045",
   "metadata": {},
   "outputs": [],
   "source": [
    "#Q1\n",
    "'''\n",
    "AI - smart application that can perform it's own without any human interaction.\n",
    "ML - It provides staktool to learn, analyze, visualize and develop predictive models from data.\n",
    "DL - Mimic human brain.\n",
    "'''"
   ]
  },
  {
   "cell_type": "code",
   "execution_count": null,
   "id": "baf48dbc-887f-4fff-8797-571ebcadcf8f",
   "metadata": {},
   "outputs": [],
   "source": [
    "#Q2- What is supervised learning? List some samples of supervised learning.\n",
    "'''\n",
    "Supervised learning is a machine learning paradigm where a model learns from labeled training data to make predictions or decisions. It involves input-output pairs and aims to map inputs to correct outputs. Examples include:\n",
    "\n",
    "1. Image classification: Identifying objects in images.\n",
    "2. Spam email detection: Labeling emails as spam or not.\n",
    "3. Sentiment analysis: Determining the sentiment (positive/negative) of text.\n",
    "4. Handwriting recognition: Converting handwritten text to digital text.\n",
    "5. Stock price prediction: Predicting future stock prices based on historical data.\n",
    "6. Speech recognition: Transcribing spoken language into text.\n",
    "7. Medical diagnosis: Identifying diseases based on patient data.\n",
    "'''"
   ]
  },
  {
   "cell_type": "code",
   "execution_count": null,
   "id": "50dafabf-28e7-4956-ba25-207229f4cea3",
   "metadata": {},
   "outputs": [],
   "source": [
    "#Q3- What is unsupervised learning? List somg examples of unsupervised learning.\n",
    "'''\n",
    "Unsupervised learning is a machine learning approach where a model learns patterns and structures in data without labeled outputs. It seeks to discover inherent relationships and structures. Examples include:\n",
    "\n",
    "1. Clustering: Grouping similar data points together, such as customer segmentation.\n",
    "2. Dimensionality reduction: Reducing the number of features while retaining information.\n",
    "3. Anomaly detection: Identifying rare or unusual patterns in data.\n",
    "4. Topic modeling: Extracting themes or topics from text documents.\n",
    "5. Density estimation: Estimating the probability distribution of data.\n",
    "6. Recommendation systems: Suggesting products or content based on user behavior.\n",
    "7. Data compression: Reducing the size of data while preserving information.\n",
    "'''"
   ]
  },
  {
   "cell_type": "code",
   "execution_count": null,
   "id": "4462966b-092f-410f-996c-1fcbad7d8df1",
   "metadata": {},
   "outputs": [],
   "source": [
    "#Q4- What is the difference between AI, ML, DL, and DS?\n",
    "'''\n",
    "- AI (Artificial Intelligence) is the broader field of creating machines that can perform tasks requiring human intelligence.\n",
    "- ML (Machine Learning) is a subset of AI that focuses on training models to learn from data and make predictions.\n",
    "- DL (Deep Learning) is a subset of ML that uses neural networks with multiple layers to solve complex tasks.\n",
    "- DS (Data Science) is a multidisciplinary field that encompasses data analysis, ML, and domain knowledge to extract insights and make data-driven decisions.\n",
    "'''"
   ]
  },
  {
   "cell_type": "code",
   "execution_count": null,
   "id": "832e5f97-5a70-470e-8790-c747047f109d",
   "metadata": {},
   "outputs": [],
   "source": [
    "#Q5- What are the main differences between supervised, unsupervised, and semi-supervised learning?\n",
    "'''\n",
    "The main differences between supervised, unsupervised, and semi-supervised learning are:\n",
    "\n",
    "1. Supervised learning uses labeled data for training, where the model learns to map inputs to known outputs.\n",
    "2. Unsupervised learning works with unlabeled data, seeking to find patterns and structures in the data.\n",
    "3. Semi-supervised learning combines both labeled and unlabeled data for training, leveraging the advantages of both approaches.\n",
    "'''"
   ]
  },
  {
   "cell_type": "code",
   "execution_count": null,
   "id": "46010c77-3074-4177-9af0-f5c1669159c8",
   "metadata": {},
   "outputs": [],
   "source": [
    "#Q6- What is train, test and validation split? Explain the importance of each term.\n",
    "'''\n",
    "Train, test, and validation split is a data partitioning technique in machine learning:\n",
    "\n",
    "1. Train Set: It is used to train the model, helping it learn patterns from the data.\n",
    "2. Test Set: It is used to evaluate the model's performance and measure its accuracy on unseen data.\n",
    "3. Validation Set: It is used during model development to fine-tune hyperparameters and avoid overfitting.\n",
    "\n",
    "The importance of each term:\n",
    "- Train Set: Trains the model.\n",
    "- Test Set: Assesses the model's performance.\n",
    "- Validation Set: Helps optimize the model and prevent overfitting by tuning parameters.\n",
    "'''"
   ]
  },
  {
   "cell_type": "code",
   "execution_count": null,
   "id": "9fb1abd2-8328-487e-9211-49b4dd62ae98",
   "metadata": {},
   "outputs": [],
   "source": [
    "#Q7- How can unsupervised learning be used in anomaly detection?\n",
    "'''\n",
    "Unsupervised learning can be used in anomaly detection by identifying data points that deviate significantly from the learned patterns or clusters, as anomalies are often rare and don't conform to the typical structures found in the data.\n",
    "'''\n"
   ]
  },
  {
   "cell_type": "code",
   "execution_count": null,
   "id": "6e9b151a-9dc1-4ae8-adcd-23e10a4f69bb",
   "metadata": {},
   "outputs": [],
   "source": [
    "#Q8- List down some commonly used supervised learning algorithms and unsupervised learning algorithms."
   ]
  }
 ],
 "metadata": {
  "kernelspec": {
   "display_name": "Python 3 (ipykernel)",
   "language": "python",
   "name": "python3"
  },
  "language_info": {
   "codemirror_mode": {
    "name": "ipython",
    "version": 3
   },
   "file_extension": ".py",
   "mimetype": "text/x-python",
   "name": "python",
   "nbconvert_exporter": "python",
   "pygments_lexer": "ipython3",
   "version": "3.10.8"
  }
 },
 "nbformat": 4,
 "nbformat_minor": 5
}
